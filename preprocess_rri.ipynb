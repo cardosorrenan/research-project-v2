{
 "cells": [
  {
   "cell_type": "code",
   "execution_count": 3,
   "id": "501f696b",
   "metadata": {},
   "outputs": [],
   "source": [
    "import numpy as np\n",
    "from typing import List\n",
    "\n",
    "def pack_to_segments(rri_output: np.ndarray) -> List[List[float]]:\n",
    "    \"\"\"\n",
    "    Packs a 1D numpy array into a 2D list of segments with a fixed size.\n",
    "\n",
    "    Args:\n",
    "        rri_output: A 1D numpy array representing a sequence of R-R intervals.\n",
    "\n",
    "    Returns:\n",
    "        A 2D list of segments, where each segment is a list of R-R intervals.\n",
    "        The length of each segment is determined by the SEGMENT_SIZE constant.\n",
    "    \"\"\"\n",
    "    SEGMENT_SIZE = 30\n",
    "    return [rri_output[i:i+SEGMENT_SIZE].tolist() for i in range(0, rri_output.shape[0], SEGMENT_SIZE)]"
   ]
  },
  {
   "cell_type": "code",
   "execution_count": 4,
   "id": "bc7bbec2",
   "metadata": {},
   "outputs": [],
   "source": [
    "rri_output = np.load(\"./output/afib.npy\")\n",
    "rri_output = pack_to_segments(rri_output)"
   ]
  }
 ],
 "metadata": {
  "kernelspec": {
   "display_name": "venv",
   "language": "python",
   "name": "python3"
  },
  "language_info": {
   "codemirror_mode": {
    "name": "ipython",
    "version": 3
   },
   "file_extension": ".py",
   "mimetype": "text/x-python",
   "name": "python",
   "nbconvert_exporter": "python",
   "pygments_lexer": "ipython3",
   "version": "3.11.2"
  },
  "vscode": {
   "interpreter": {
    "hash": "6cff8109849478b80d849fa9b19485249a5dc5257b812874e006f7dba7d5866b"
   }
  }
 },
 "nbformat": 4,
 "nbformat_minor": 5
}
