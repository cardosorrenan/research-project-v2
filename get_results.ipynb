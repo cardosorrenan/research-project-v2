{
 "cells": [
  {
   "cell_type": "code",
   "execution_count": 2,
   "id": "0350f9fe",
   "metadata": {},
   "outputs": [],
   "source": [
    "import numpy as np\n",
    "from tqdm import tqdm\n",
    "from matplotlib import pyplot as plt \n",
    "from sklearn.model_selection import GridSearchCV\n",
    "from sklearn.svm import SVC\n",
    "from sklearn.model_selection import StratifiedKFold, cross_val_score"
   ]
  },
  {
   "cell_type": "code",
   "execution_count": 3,
   "id": "21041e1d",
   "metadata": {},
   "outputs": [],
   "source": [
    "SEGMENT_SIZE = 30\n",
    "BINS_QUANTITY = 50\n",
    "methods = {\n",
    "    0: 'nk_ecg_peaks',\n",
    "    1: 'swt_detector'\n",
    "}\n",
    "\n",
    "CHOOSE_METHOD = 1"
   ]
  },
  {
   "cell_type": "code",
   "execution_count": 6,
   "id": "fe486d0c",
   "metadata": {},
   "outputs": [
    {
     "name": "stdout",
     "output_type": "stream",
     "text": [
      "(513173,)\n"
     ]
    }
   ],
   "source": [
    "n_bins = np.empty((0, BINS_QUANTITY + 1))\n",
    "\n",
    "for db in ['AFIB', 'NSRDB', 'LTAFDB']:\n",
    "    label = -1 if db == 'NSRDB' else 1\n",
    "    \n",
    "    rri_output = np.load(f\"output/{methods[CHOOSE_METHOD]}/{db}.npy\")\n",
    "\n",
    "    rri_quantity = rri_output.shape[0]\n",
    "    segments = []\n",
    "    for i in range(0, rri_quantity, SEGMENT_SIZE):\n",
    "        segment = rri_output[i:i+SEGMENT_SIZE]\n",
    "        segments.append(segment.tolist())\n",
    "\n",
    "    for segment in tqdm(segments):\n",
    "        hist, edges = np.histogram(segment, bins=BINS_QUANTITY - 1)\n",
    "        row = np.append(edges, label).reshape((1, BINS_QUANTITY + 1))\n",
    "        n_bins = np.vstack((n_bins, row))\n",
    "\n",
    "y = n_bins[:, -1]\n",
    "X = n_bins[:, 0:-1]\n",
    "\n",
    "np.save(f\"output/{methods[CHOOSE_METHOD]}/X.npy\", X)\n",
    "np.save(f\"output/{methods[CHOOSE_METHOD]}/y.npy\", y)"
   ]
  },
  {
   "cell_type": "code",
   "execution_count": 88,
   "id": "042b9b75",
   "metadata": {},
   "outputs": [
    {
     "name": "stdout",
     "output_type": "stream",
     "text": [
      "(20000, 51)\n",
      "(20000, 51)\n",
      "0.750325\n"
     ]
    },
    {
     "data": {
      "image/png": "[encoded data removed]",
      "text/plain": [
       "<Figure size 640x480 with 1 Axes>"
      ]
     },
     "metadata": {},
     "output_type": "display_data"
    }
   ],
   "source": [
    "def get_random_samples(base, n_samples, label):\n",
    "    samples = base[base[:, -1] == label]\n",
    "    indexes = np.random.choice(samples.shape[0], n_samples, replace=False)\n",
    "    return samples[indexes]\n",
    "\n",
    "\n",
    "X = np.load(f'./output/{methods[CHOOSE_METHOD]}/X.npy')\n",
    "y = np.load(f'./output/{methods[CHOOSE_METHOD]}/y.npy')\n",
    "y = y.reshape(y.shape[0], 1)\n",
    "base = np.hstack((X, y))\n",
    "\n",
    "base_ready = np.vstack((get_random_samples(base, 10000, -1),\n",
    "                        get_random_samples(base, 10000, -1)))\n",
    "\n",
    "y = base_ready[:, -1]\n",
    "X = base_ready[:, 0:-1]\n",
    "\n",
    "clf_svm = SVC()\n",
    "kfold = StratifiedKFold(n_splits=10)\n",
    "cv_results = cross_val_score(clf_svm, X, y, cv=kfold, scoring='accuracy')\n",
    "print(cv_results.mean())\n",
    "plt.boxplot(cv_results)\n",
    "plt.show()"
   ]
  }
 ],
 "metadata": {
  "kernelspec": {
   "display_name": "venv",
   "language": "python",
   "name": "python3"
  },
  "language_info": {
   "codemirror_mode": {
    "name": "ipython",
    "version": 3
   },
   "file_extension": ".py",
   "mimetype": "text/x-python",
   "name": "python",
   "nbconvert_exporter": "python",
   "pygments_lexer": "ipython3",
   "version": "3.11.2"
  },
  "vscode": {
   "interpreter": {
    "hash": "6cff8109849478b80d849fa9b19485249a5dc5257b812874e006f7dba7d5866b"
   }
  }
 },
 "nbformat": 4,
 "nbformat_minor": 5
}
