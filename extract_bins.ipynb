{
 "cells": [
  {
   "cell_type": "code",
   "execution_count": null,
   "id": "5c638f5a",
   "metadata": {},
   "outputs": [],
   "source": [
    "import numpy as np\n",
    "from tqdm import tqdm\n",
    "\n",
    "SEGMENT_SIZE = 30\n",
    "M_BINS = 30\n",
    "\n",
    "DATABASES = ['AFDB', 'NSRDB', 'LTAFDB']\n",
    "\n",
    "result = np.empty((0, M_BINS + 1))\n",
    "\n",
    "for db in DATABASES:\n",
    "    label = -1 if db == 'NSRDB' else 1\n",
    "    \n",
    "    rri_output = np.load(f\"output/{db}.npy\")\n",
    "    np.random.shuffle(rri_output)\n",
    "\n",
    "    rri_quantity = rri_output.shape[0]\n",
    "    \n",
    "    segments = np.empty((0, SEGMENT_SIZE))\n",
    "    for i in range(0, rri_quantity, SEGMENT_SIZE):\n",
    "        segment = rri_output[i:i+SEGMENT_SIZE]\n",
    "        if (segment.shape[0] == SEGMENT_SIZE):\n",
    "            segments = np.vstack((segments, segment))\n",
    "\n",
    "    for segment in tqdm(segments):\n",
    "        hist, _ = np.histogram(a=segment, range=(50, 2500), bins=M_BINS)\n",
    "        x = hist\n",
    "        y = label\n",
    "        row = np.append(x, y)\n",
    "        row = row.reshape((1, row.shape[0]))\n",
    "        result = np.vstack((result, row))\n",
    "\n",
    "np.save(f\"output/v2/bins_{M_BINS}.npy\", result)"
   ]
  }
 ],
 "metadata": {
  "kernelspec": {
   "display_name": "venv",
   "language": "python",
   "name": "python3"
  },
  "language_info": {
   "codemirror_mode": {
    "name": "ipython",
    "version": 3
   },
   "file_extension": ".py",
   "mimetype": "text/x-python",
   "name": "python",
   "nbconvert_exporter": "python",
   "pygments_lexer": "ipython3",
   "version": "3.11.2"
  },
  "vscode": {
   "interpreter": {
    "hash": "6cff8109849478b80d849fa9b19485249a5dc5257b812874e006f7dba7d5866b"
   }
  }
 },
 "nbformat": 4,
 "nbformat_minor": 5
}
