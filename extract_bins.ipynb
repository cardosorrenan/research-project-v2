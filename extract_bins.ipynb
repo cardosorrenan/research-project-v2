{
 "cells": [
  {
   "cell_type": "code",
   "execution_count": 6,
   "id": "5c638f5a",
   "metadata": {},
   "outputs": [
    {
     "name": "stderr",
     "output_type": "stream",
     "text": [
      "100%|██████████| 16937/16937 [00:06<00:00, 2594.33it/s]\n",
      "100%|██████████| 60225/60225 [02:45<00:00, 362.88it/s] \n",
      "100%|██████████| 103466/103466 [10:46<00:00, 159.95it/s]\n"
     ]
    }
   ],
   "source": [
    "import numpy as np\n",
    "from tqdm import tqdm\n",
    "\n",
    "SEGMENT_SIZE = 30\n",
    "M_BINS = 30\n",
    "\n",
    "DATABASES = ['AFDB', 'NSRDB', 'LTAFDB']\n",
    "\n",
    "result = np.empty((0, M_BINS + 1))\n",
    "\n",
    "for db in DATABASES:\n",
    "    label = -1 if db == 'NSRDB' else 1\n",
    "    \n",
    "    rri_output = np.load(f\"output/{db}.npy\")\n",
    "    np.random.shuffle(rri_output)\n",
    "\n",
    "    rri_quantity = rri_output.shape[0]\n",
    "    \n",
    "    segments = np.empty((0, SEGMENT_SIZE))\n",
    "    for i in range(0, rri_quantity, SEGMENT_SIZE):\n",
    "        segment = rri_output[i:i+SEGMENT_SIZE]\n",
    "        if (segment.shape[0] == SEGMENT_SIZE):\n",
    "            segments = np.vstack((segments, segment))\n",
    "\n",
    "    for segment in tqdm(segments):\n",
    "        hist, _ = np.histogram(a=segment, range=(50, 2500), bins=M_BINS)\n",
    "        x = hist\n",
    "        y = label\n",
    "        row = np.append(x, y)\n",
    "        row = row.reshape((1, row.shape[0]))\n",
    "        result = np.vstack((result, row))\n",
    "\n",
    "np.save(f\"output/v2/bins_{M_BINS}.npy\", result)"
   ]
  },
  {
   "cell_type": "code",
   "execution_count": 33,
   "id": "8ebf67ad",
   "metadata": {},
   "outputs": [
    {
     "name": "stdout",
     "output_type": "stream",
     "text": [
      "AFDB 508116 RRIs\n",
      "LTAFDB 3103986 RRIs\n",
      "NSRDB 1806774 RRIs\n"
     ]
    }
   ],
   "source": [
    "rri_output_afdb = np.load(f\"output/AFDB.npy\")\n",
    "print(f'AFDB {rri_output_afdb.shape[0]} RRIs')\n",
    "rri_output_ltafdb = np.load(f\"output/LTAFDB.npy\")\n",
    "print(f'LTAFDB {rri_output_ltafdb.shape[0]} RRIs')\n",
    "rri_output_nsrdb = np.load(f\"output/NSRDB.npy\")\n",
    "print(f'NSRDB {rri_output_nsrdb.shape[0]} RRIs')"
   ]
  },
  {
   "cell_type": "code",
   "execution_count": 37,
   "id": "2aab3e80",
   "metadata": {},
   "outputs": [
    {
     "data": {
      "text/plain": [
       "array([552, 492, 416, 396, 436, 532, 568, 424, 296, 384, 328, 364, 388,\n",
       "       360, 296, 340, 376, 364, 372, 492, 428, 572, 448, 632, 472, 464,\n",
       "       420, 392, 400, 484])"
      ]
     },
     "execution_count": 37,
     "metadata": {},
     "output_type": "execute_result"
    }
   ],
   "source": [
    "rri_output_afdb[0:30]"
   ]
  },
  {
   "cell_type": "code",
   "execution_count": 36,
   "id": "4a402719",
   "metadata": {},
   "outputs": [
    {
     "name": "stdout",
     "output_type": "stream",
     "text": [
      "AFDB 16937 Segments\n",
      "LTAFDB 103466 Segments\n",
      "NSRDB 60225 Segments\n"
     ]
    }
   ],
   "source": [
    "rri_output_afdb = np.load(f\"output/AFDB.npy\")\n",
    "print(f'AFDB {int(rri_output_afdb.shape[0]/30)} Segments')\n",
    "rri_output_ltafdb = np.load(f\"output/LTAFDB.npy\")\n",
    "print(f'LTAFDB {int(rri_output_ltafdb.shape[0]/30)} Segments')\n",
    "rri_output_nsrdb = np.load(f\"output/NSRDB.npy\")\n",
    "print(f'NSRDB {int(rri_output_nsrdb.shape[0]/30)} Segments')"
   ]
  },
  {
   "cell_type": "code",
   "execution_count": 40,
   "id": "df6a28bb",
   "metadata": {},
   "outputs": [
    {
     "name": "stdout",
     "output_type": "stream",
     "text": [
      "180628 Segments\n"
     ]
    }
   ],
   "source": [
    "import numpy as np\n",
    "\n",
    "bins = np.load(f\"output/v2/bins_30.npy\")\n",
    "print(f'{bins.shape[0]} Segments')"
   ]
  },
  {
   "cell_type": "code",
   "execution_count": 44,
   "id": "5141939f",
   "metadata": {},
   "outputs": [
    {
     "data": {
      "text/plain": [
       "array([0., 0., 0., 0., 7., 4., 3., 7., 2., 2., 2., 1., 1., 0., 1., 0., 0.,\n",
       "       0., 0., 0., 0., 0., 0., 0., 0., 0., 0., 0., 0., 0., 1.])"
      ]
     },
     "execution_count": 44,
     "metadata": {},
     "output_type": "execute_result"
    }
   ],
   "source": [
    "bins[bins[:,-1] == 1][0]"
   ]
  },
  {
   "cell_type": "code",
   "execution_count": 45,
   "id": "82a8d1f6",
   "metadata": {},
   "outputs": [
    {
     "data": {
      "text/plain": [
       "array([ 0.,  1.,  0.,  0.,  0.,  1.,  1.,  7.,  5.,  5.,  5.,  2.,  2.,\n",
       "        0.,  1.,  0.,  0.,  0.,  0.,  0.,  0.,  0.,  0.,  0.,  0.,  0.,\n",
       "        0.,  0.,  0.,  0., -1.])"
      ]
     },
     "execution_count": 45,
     "metadata": {},
     "output_type": "execute_result"
    }
   ],
   "source": [
    "bins[bins[:,-1] == -1][0]"
   ]
  },
  {
   "cell_type": "code",
   "execution_count": 43,
   "id": "ef4338c5",
   "metadata": {},
   "outputs": [
    {
     "data": {
      "text/plain": [
       "array([  50.        ,  131.66666667,  213.33333333,  295.        ,\n",
       "        376.66666667,  458.33333333,  540.        ,  621.66666667,\n",
       "        703.33333333,  785.        ,  866.66666667,  948.33333333,\n",
       "       1030.        , 1111.66666667, 1193.33333333, 1275.        ,\n",
       "       1356.66666667, 1438.33333333, 1520.        , 1601.66666667,\n",
       "       1683.33333333, 1765.        , 1846.66666667, 1928.33333333,\n",
       "       2010.        , 2091.66666667, 2173.33333333, 2255.        ,\n",
       "       2336.66666667, 2418.33333333, 2500.        ])"
      ]
     },
     "execution_count": 43,
     "metadata": {},
     "output_type": "execute_result"
    }
   ],
   "source": [
    "_"
   ]
  }
 ],
 "metadata": {
  "kernelspec": {
   "display_name": "venv",
   "language": "python",
   "name": "python3"
  },
  "language_info": {
   "codemirror_mode": {
    "name": "ipython",
    "version": 3
   },
   "file_extension": ".py",
   "mimetype": "text/x-python",
   "name": "python",
   "nbconvert_exporter": "python",
   "pygments_lexer": "ipython3",
   "version": "3.11.2"
  },
  "vscode": {
   "interpreter": {
    "hash": "6cff8109849478b80d849fa9b19485249a5dc5257b812874e006f7dba7d5866b"
   }
  }
 },
 "nbformat": 4,
 "nbformat_minor": 5
}
