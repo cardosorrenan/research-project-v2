{
 "cells": [
  {
   "cell_type": "code",
   "execution_count": 32,
   "id": "5c638f5a",
   "metadata": {},
   "outputs": [
    {
     "name": "stderr",
     "output_type": "stream",
     "text": [
      "100%|██████████| 2000/2000 [00:00<00:00, 9940.45it/s] \n",
      "100%|██████████| 2000/2000 [00:00<00:00, 2638.34it/s]\n",
      "100%|██████████| 2000/2000 [00:01<00:00, 1736.69it/s]\n"
     ]
    }
   ],
   "source": [
    "import numpy as np\n",
    "from tqdm import tqdm\n",
    "\n",
    "SEGMENT_SIZE = 30\n",
    "M_BINS = 50\n",
    "N_SAMPLES = 2000\n",
    "DATABASES = ['AFDB', 'NSRDB', 'LTAFDB']\n",
    "\n",
    "result = np.empty((0, M_BINS + 1))\n",
    "\n",
    "for db in DATABASES:\n",
    "    label = -1 if db == 'NSRDB' else 1\n",
    "    \n",
    "    rri_output = np.load(f\"output/v2/{db}.npy\")\n",
    "    np.random.shuffle(rri_output)\n",
    "    rri_output = rri_output[0:N_SAMPLES * SEGMENT_SIZE]\n",
    "    rri_quantity = rri_output.shape[0]\n",
    "    \n",
    "    segments = np.empty((0, SEGMENT_SIZE))\n",
    "    for i in range(0, rri_quantity, SEGMENT_SIZE):\n",
    "        segment = rri_output[i:i+SEGMENT_SIZE]\n",
    "        segments = np.vstack((segments, segment))\n",
    "\n",
    "    for segment in tqdm(segments):\n",
    "        hist, _ = np.histogram(a=segment, range=(50, 2000), bins=M_BINS)\n",
    "        x = hist\n",
    "        y = label\n",
    "        row = np.append(x, y)\n",
    "        row = row.reshape((1, row.shape[0]))\n",
    "        result = np.vstack((result, row))\n",
    "\n",
    "np.save(f\"output/v2/bins_{M_BINS}.npy\", result)"
   ]
  }
 ],
 "metadata": {
  "kernelspec": {
   "display_name": "venv",
   "language": "python",
   "name": "python3"
  },
  "language_info": {
   "codemirror_mode": {
    "name": "ipython",
    "version": 3
   },
   "file_extension": ".py",
   "mimetype": "text/x-python",
   "name": "python",
   "nbconvert_exporter": "python",
   "pygments_lexer": "ipython3",
   "version": "3.11.2"
  },
  "vscode": {
   "interpreter": {
    "hash": "6cff8109849478b80d849fa9b19485249a5dc5257b812874e006f7dba7d5866b"
   }
  }
 },
 "nbformat": 4,
 "nbformat_minor": 5
}
