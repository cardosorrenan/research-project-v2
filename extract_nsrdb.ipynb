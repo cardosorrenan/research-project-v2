{
 "cells": [
  {
   "cell_type": "code",
   "execution_count": 1,
   "id": "f0e31b33",
   "metadata": {},
   "outputs": [],
   "source": [
    "import os\n",
    "import numpy as np\n",
    "import wfdb\n",
    "import neurokit2 as nk\n",
    "\n",
    "from operator import attrgetter\n",
    "\n",
    "from utils import (\n",
    "    extract_rri_signal,\n",
    "    get_records_id,\n",
    "    get_values_within_intervals,\n",
    "    resample_ms\n",
    ")\n",
    "\n",
    "AFDB_PATH = \"mit-bih-normal-sinus-rhythm-database-1.0.0/files\"\n",
    "\n",
    "record_ids = get_records_id(AFDB_PATH)\n",
    "\n",
    "rri_output = np.array([])\n",
    "\n",
    "for record_id in record_ids:\n",
    "\n",
    "    record_path = os.path.join(AFDB_PATH, record_id)\n",
    "\n",
    "    ecg_signal, ecg_metadata = wfdb.rdsamp(record_path)\n",
    "    signal_len = ecg_metadata['sig_len']\n",
    "\n",
    "    sample, aux_note = attrgetter(\"sample\", \"aux_note\")(\n",
    "        wfdb.rdann(record_path, \"atr\")\n",
    "    )\n",
    "    nsrdb_intervals = [[0, signal_len - 1]]\n",
    "    \n",
    "    for lead_idx, lead_signal in enumerate(ecg_signal.T):\n",
    "        nsrdb_signal = get_values_within_intervals(nsrdb_intervals, lead_signal)\n",
    "        _, rpeaks = nk.ecg_peaks(nsrdb_signal, sampling_rate=ecg_metadata[\"fs\"])\n",
    "        ecg_rpeaks = rpeaks[\"ECG_R_Peaks\"]\n",
    "\n",
    "        rri_signal = extract_rri_signal(ecg_rpeaks, signal_len)\n",
    "        rri_signal_ms = resample_ms(rri_signal, ecg_metadata[\"fs\"])\n",
    "        rri_output = np.concatenate((rri_signal_ms, rri_output))\n",
    "\n",
    "directory = \"./output\"\n",
    "if not os.path.exists(directory):\n",
    "    os.makedirs(directory)\n",
    "\n",
    "np.save(os.path.join(directory, \"nsrdb.npy\"), rri_output)"
   ]
  }
 ],
 "metadata": {
  "kernelspec": {
   "display_name": "venv",
   "language": "python",
   "name": "python3"
  },
  "language_info": {
   "codemirror_mode": {
    "name": "ipython",
    "version": 3
   },
   "file_extension": ".py",
   "mimetype": "text/x-python",
   "name": "python",
   "nbconvert_exporter": "python",
   "pygments_lexer": "ipython3",
   "version": "3.11.2"
  },
  "vscode": {
   "interpreter": {
    "hash": "6cff8109849478b80d849fa9b19485249a5dc5257b812874e006f7dba7d5866b"
   }
  }
 },
 "nbformat": 4,
 "nbformat_minor": 5
}
