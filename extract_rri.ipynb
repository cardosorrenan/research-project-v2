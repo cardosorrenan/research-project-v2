{
 "cells": [
  {
   "cell_type": "code",
   "execution_count": 1,
   "id": "bc7bbec2",
   "metadata": {},
   "outputs": [],
   "source": [
    "import os\n",
    "from operator import attrgetter\n",
    "from typing import List\n",
    "from tqdm import tqdm\n",
    "import neurokit2 as nk\n",
    "import numpy as np\n",
    "import wfdb\n",
    "\n",
    "DB_ALIASES = {\n",
    "    \"AFIB\": \"./mit-bih-atrial-fibrillation-database-1.0.0/files\",\n",
    "    \"LTAFDB\": \"./long-term-af-database-1.0.0/files\",\n",
    "    \"NSRDB\": \"./mit-bih-normal-sinus-rhythm-database-1.0.0/files\",\n",
    "}\n",
    "\n",
    "def get_records_id(path: str) -> List[str]:\n",
    "    \"\"\"method to get all available record ids from AFDB\n",
    "\n",
    "    Args:\n",
    "        path (str): the path of MIT-BIH AFDB files\n",
    "\n",
    "    Returns:\n",
    "        List[str]: a list of string containing all records id's\n",
    "    \"\"\"\n",
    "    with open(f\"{path}/RECORDS\") as f:\n",
    "        lines = f.readlines()\n",
    "    return list(map(lambda line: line.strip(), lines))\n",
    "\n",
    "\n",
    "def extract_rri_signal(ecg_r_peaks: np.ndarray, signal_lead_size: int) -> List[float]:\n",
    "    \"\"\"method to get IRR intervals from signal lead and founded R-peaks indices\n",
    "\n",
    "    Args:\n",
    "        ecg_r_peaks (np.ndarray): numpy array containing found R-peaks indices\n",
    "        signal_lead_size (int): a size of signal recording coming from an ECG lead\n",
    "\n",
    "    Returns:\n",
    "        List[float]: a list of floats, is the RRIs extracted from signal\n",
    "    \"\"\"\n",
    "    rri_signal = []\n",
    "    for i in range(ecg_r_peaks.size - 1):\n",
    "        rri_beat = int(ecg_r_peaks[i + 1] - ecg_r_peaks[i])\n",
    "        rri_signal.append(rri_beat)\n",
    "    return rri_signal\n",
    "\n",
    "\n",
    "def get_intervals_afib(\n",
    "    sample: List[int], aux_note: List[str], signal_len: int\n",
    ") -> List[List[int]]:\n",
    "    \"\"\"\n",
    "    Get the intervals of atrial fibrillation (AFIB) from a list of sample values and corresponding annotations.\n",
    "\n",
    "    Args:\n",
    "    - sample (List[int]): A list of ECG sample values.\n",
    "    - aux_note (List[str]): A list of annotation labels for each sample.\n",
    "\n",
    "    Returns:\n",
    "    - afib_intervals (List[List[int]]): A list of start and end indices for each interval of AFIB.\n",
    "    \"\"\"\n",
    "    afib_intervals = []\n",
    "    for i, label in enumerate(aux_note):\n",
    "        if label == \"(AFIB\":\n",
    "            afib_start = sample[i]\n",
    "            last_notation = len(sample) == (i + 1)\n",
    "            afib_end = signal_len if last_notation else sample[i + 1] - 1\n",
    "            afib_intervals.append([afib_start, afib_end])\n",
    "    return afib_intervals\n",
    "\n",
    "\n",
    "def resample_ms(rri_signal: List[float], freq: float) -> List[float]:\n",
    "    \"\"\"Resample an RRI signal to a specific frequency in milliseconds.\n",
    "\n",
    "    Args:\n",
    "        rri_signal (List[float]): List of RRI values to be resampled.\n",
    "        freq (float): Frequency in Hz to which the RRI signal will be resampled.\n",
    "\n",
    "    Returns:\n",
    "        List[float]: List of resampled RRI values in milliseconds.\n",
    "    \"\"\"\n",
    "    MILLISECONDS = 1000\n",
    "    return [(MILLISECONDS / freq) * rri for rri in rri_signal]\n",
    "\n",
    "\n",
    "def extract_rri(db: str) -> np.ndarray:\n",
    "    \"\"\"Extract RRI signals from ECG recordings in a PhysioNet database, \n",
    "    resample the signals to a specific frequency in milliseconds, and \n",
    "    concatenate them into a single numpy array.\n",
    "\n",
    "    Args:\n",
    "        db (str): The name of the PhysioNet database to extract RRI \n",
    "        signals from. Valid values are \"LTAFDB\", \"AFIB\", and \"NSRDB\".\n",
    "\n",
    "    Returns:\n",
    "        np.ndarray: A 1-dimensional numpy array containing the \n",
    "        concatenated RRI signals in milliseconds.\n",
    "    \"\"\"\n",
    "    path_db = DB_ALIASES[db]\n",
    "\n",
    "    record_ids = get_records_id(path_db)\n",
    "\n",
    "    if db == \"AFIB\":\n",
    "        record_ids.remove(\"00735\")\n",
    "        record_ids.remove(\"03665\")\n",
    "\n",
    "    rri_output = np.array([])\n",
    "\n",
    "    print(path_db)\n",
    "    for record_id in tqdm(record_ids):\n",
    "        record_path = os.path.join(path_db, record_id)\n",
    "\n",
    "        ecg_signal, ecg_metadata = wfdb.rdsamp(record_path)\n",
    "        signal_len = ecg_metadata['sig_len']\n",
    "        sampling_rate = ecg_metadata['fs']\n",
    "\n",
    "        sample, aux_note = attrgetter(\"sample\", \"aux_note\")(\n",
    "            wfdb.rdann(record_path, \"atr\")\n",
    "        )\n",
    "\n",
    "        extract_intervals = list()\n",
    "        if db in [\"AFIB\", \"LTAFB\"]:\n",
    "            extract_intervals = get_intervals_afib(sample, aux_note, signal_len)\n",
    "        else:\n",
    "            extract_intervals = [[0, signal_len - 1]]\n",
    "\n",
    "        lead_signal = ecg_signal[:, 1]\n",
    "\n",
    "        for start_index, end_index in extract_intervals:\n",
    "            signal = lead_signal[start_index:end_index]\n",
    "            _, rpeaks = nk.ecg_peaks(signal, sampling_rate=sampling_rate)\n",
    "            rri_signal = extract_rri_signal(rpeaks[\"ECG_R_Peaks\"], signal_len)\n",
    "            rri_signal_ms = resample_ms(rri_signal, sampling_rate)\n",
    "            rri_output = np.concatenate((rri_output, rri_signal_ms))\n",
    "\n",
    "    globals().update(locals())\n",
    "    print(f'results: {rri_output.shape[0]} RRIs')\n",
    "    print('\\n\\n---\\n\\n')\n",
    "\n",
    "    return rri_output\n",
    "\n",
    "def save_output(result: np.ndarray, db: str) -> None:\n",
    "    \"\"\"Save a numpy array to a file in the \"./output\" directory with the \n",
    "    RRI extracted and \".npy\" extension.\n",
    "\n",
    "    Args:\n",
    "        result (np.ndarray): A numpy array containing the output to be saved.\n",
    "        db (str): The name of the PhysioNet database to extract RRI \n",
    "        signals from. Valid values are \"LTAFDB\", \"AFIB\", and \"NSRDB\".\n",
    "\n",
    "    Returns:\n",
    "        None\n",
    "    \"\"\"\n",
    "    directory = \"./output\"\n",
    "    if not os.path.exists(directory):\n",
    "        os.makedirs(directory)\n",
    "    np.save(os.path.join(directory, f\"{db}.npy\"), result)"
   ]
  },
  {
   "cell_type": "code",
   "execution_count": 2,
   "id": "3b84694e",
   "metadata": {},
   "outputs": [
    {
     "name": "stdout",
     "output_type": "stream",
     "text": [
      "./mit-bih-atrial-fibrillation-database-1.0.0/files\n"
     ]
    },
    {
     "name": "stderr",
     "output_type": "stream",
     "text": [
      "100%|██████████| 23/23 [00:34<00:00,  1.48s/it]\n"
     ]
    },
    {
     "name": "stdout",
     "output_type": "stream",
     "text": [
      "results: 512257 RRIs\n",
      "\n",
      "\n",
      "---\n",
      "\n",
      "\n",
      "./long-term-af-database-1.0.0/files\n"
     ]
    },
    {
     "name": "stderr",
     "output_type": "stream",
     "text": [
      "100%|██████████| 84/84 [06:13<00:00,  4.45s/it]\n"
     ]
    },
    {
     "name": "stdout",
     "output_type": "stream",
     "text": [
      "results: 8692884 RRIs\n",
      "\n",
      "\n",
      "---\n",
      "\n",
      "\n",
      "./mit-bih-normal-sinus-rhythm-database-1.0.0/files\n"
     ]
    },
    {
     "name": "stderr",
     "output_type": "stream",
     "text": [
      "100%|██████████| 18/18 [01:26<00:00,  4.79s/it]"
     ]
    },
    {
     "name": "stdout",
     "output_type": "stream",
     "text": [
      "results: 2050611 RRIs\n",
      "\n",
      "\n",
      "---\n",
      "\n",
      "\n"
     ]
    },
    {
     "name": "stderr",
     "output_type": "stream",
     "text": [
      "\n"
     ]
    }
   ],
   "source": [
    "for db_alias in DB_ALIASES.keys():\n",
    "    rri_output = extract_rri(db_alias)\n",
    "    save_output(rri_output, db_alias)"
   ]
  }
 ],
 "metadata": {
  "kernelspec": {
   "display_name": "venv",
   "language": "python",
   "name": "python3"
  },
  "language_info": {
   "codemirror_mode": {
    "name": "ipython",
    "version": 3
   },
   "file_extension": ".py",
   "mimetype": "text/x-python",
   "name": "python",
   "nbconvert_exporter": "python",
   "pygments_lexer": "ipython3",
   "version": "3.11.2"
  },
  "vscode": {
   "interpreter": {
    "hash": "6cff8109849478b80d849fa9b19485249a5dc5257b812874e006f7dba7d5866b"
   }
  }
 },
 "nbformat": 4,
 "nbformat_minor": 5
}
