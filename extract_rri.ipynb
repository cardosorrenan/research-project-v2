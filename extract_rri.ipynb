{
 "cells": [
  {
   "cell_type": "code",
   "execution_count": 14,
   "id": "bc7bbec2",
   "metadata": {},
   "outputs": [],
   "source": [
    "import os\n",
    "from typing import List\n",
    "from tqdm import tqdm\n",
    "import numpy as np\n",
    "import wfdb\n",
    "from operator import attrgetter\n",
    "\n",
    "DB_ALIASES = {\n",
    "    \"AFDB\": \"./mit-bih-atrial-fibrillation-database-1.0.0/files\",\n",
    "    \"LTAFDB\": \"./long-term-af-database-1.0.0/files\",\n",
    "    \"NSRDB\": \"./mit-bih-normal-sinus-rhythm-database-1.0.0/files\",\n",
    "}\n",
    "\n",
    "def get_ranges_interest(\n",
    "    record_path, code\n",
    ") -> List[List[int]]:\n",
    "    \"\"\"\n",
    "    Get the intervals of atrial fibrillation (AFIB) from a list of sample values and corresponding annotations.\n",
    "\n",
    "    Args:\n",
    "    - sample (List[int]): A list of ECG sample values.\n",
    "    - aux_note (List[str]): A list of annotation labels for each sample.\n",
    "\n",
    "    Returns:\n",
    "    - ranges_interest (List[List[int]]): A list of start and end indices for each interval of AFDB.\n",
    "    \"\"\"\n",
    "    \n",
    "    _, ecg_metadata = wfdb.rdsamp(record_path)\n",
    "    signal_len = ecg_metadata['sig_len']\n",
    "\n",
    "    sample, aux_note = attrgetter(\"sample\", \"aux_note\")(\n",
    "        wfdb.rdann(record_path, \"atr\")\n",
    "    )\n",
    "    \n",
    "    ranges_interest = []\n",
    "    for i, label in enumerate(aux_note):\n",
    "        if label == code:\n",
    "            afib_start = sample[i]\n",
    "            last_notation = len(sample) == (i + 1)\n",
    "            afib_end = signal_len if last_notation else sample[i + 1] - 1\n",
    "            ranges_interest.append([afib_start, afib_end])\n",
    "    return ranges_interest\n",
    "\n",
    "\n",
    "def extract_rri(db: str) -> np.ndarray:\n",
    "    \"\"\"Extract intervals RR from ECG recordings in a PhysioNet database\n",
    "\n",
    "    Args:\n",
    "        db (str): The name of the PhysioNet database from which the RR intervals were extracted.\n",
    "\n",
    "    Returns:\n",
    "        np.ndarray: A 1-dimensional numpy array containing the concatenated RRI signals in milliseconds.\n",
    "    \"\"\"\n",
    "    path_db = DB_ALIASES[db]\n",
    "\n",
    "    record_ids = []\n",
    "\n",
    "    with open(f\"{path_db}/RECORDS\") as f:\n",
    "        lines = f.readlines()\n",
    "        record_ids = list(map(lambda line: line.strip(), lines))\n",
    "\n",
    "    if db == \"AFDB\":\n",
    "        record_ids.remove(\"00735\")\n",
    "        record_ids.remove(\"03665\")\n",
    "\n",
    "    rri_output = np.array([])\n",
    "\n",
    "    code = '(AFIB' if db in [\"AFDB\", \"LTAFB\"] else '(N'\n",
    "\n",
    "    for record_id in tqdm(record_ids):\n",
    "        record_path = os.path.join(path_db, record_id)\n",
    "        extract_intervals = get_ranges_interest(record_path, code)\n",
    "        for start_index, end_index in extract_intervals:\n",
    "            ann = wfdb.rdann(record_path, sampfrom=start_index, sampto=end_index, extension='qrs')\n",
    "            rr_interval = wfdb.processing.calc_rr(ann.sample, fs=ann.fs)\n",
    "            rri_output = np.concatenate((rri_output, rr_interval))\n",
    "        \n",
    "    rri_output = rri_output.astype(int)\n",
    "    globals().update(locals())\n",
    "    return rri_output\n",
    "    "
   ]
  },
  {
   "cell_type": "code",
   "execution_count": 10,
   "id": "3b84694e",
   "metadata": {},
   "outputs": [
    {
     "name": "stderr",
     "output_type": "stream",
     "text": [
      "100%|██████████| 23/23 [01:05<00:00,  2.83s/it]\n"
     ]
    }
   ],
   "source": [
    "directory = \"./output\"\n",
    "if not os.path.exists(directory):\n",
    "    os.makedirs(directory)\n",
    "\n",
    "for db_alias in DB_ALIASES.keys():\n",
    "    rri_output = extract_rri(db_alias)\n",
    "    np.save(os.path.join(directory, f\"{db_alias}.npy\"), rri_output)\n",
    "    break"
   ]
  }
 ],
 "metadata": {
  "kernelspec": {
   "display_name": "venv",
   "language": "python",
   "name": "python3"
  },
  "language_info": {
   "codemirror_mode": {
    "name": "ipython",
    "version": 3
   },
   "file_extension": ".py",
   "mimetype": "text/x-python",
   "name": "python",
   "nbconvert_exporter": "python",
   "pygments_lexer": "ipython3",
   "version": "3.11.2"
  },
  "vscode": {
   "interpreter": {
    "hash": "6cff8109849478b80d849fa9b19485249a5dc5257b812874e006f7dba7d5866b"
   }
  }
 },
 "nbformat": 4,
 "nbformat_minor": 5
}
