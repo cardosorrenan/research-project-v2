{
 "cells": [
  {
   "cell_type": "code",
   "execution_count": 1,
   "id": "3e6df15f",
   "metadata": {},
   "outputs": [],
   "source": [
    "from operator import attrgetter\n",
    "from typing import List\n",
    "\n",
    "import neurokit2 as nk\n",
    "import numpy as np\n",
    "import wfdb"
   ]
  },
  {
   "cell_type": "code",
   "execution_count": 2,
   "id": "f0e31b33",
   "metadata": {},
   "outputs": [],
   "source": [
    "def get_records_id(path: str) -> List[str]:\n",
    "    \"\"\"method to get all available record ids from AFDB\n",
    "\n",
    "    Args:\n",
    "        path (str): the path of MIT-BIH AFDB files\n",
    "\n",
    "    Returns:\n",
    "        List[str]: a list of string containing all records id's\n",
    "    \"\"\"\n",
    "    with open(f\"{path}/RECORDS\") as f:\n",
    "        lines = f.readlines()\n",
    "    return list(map(lambda line: line.strip(), lines))\n",
    "\n",
    "\n",
    "def detect_r_peaks(signal_lead: np.ndarray, fs: int) -> np.ndarray:\n",
    "    \"\"\"method to get the R-peak indices of a signal\n",
    "\n",
    "    Args:\n",
    "        signal_lead (np.ndarray): a signal recording coming from an ecg lead\n",
    "        fs (int): sampling rate\n",
    "\n",
    "    Returns:\n",
    "         np.ndarray: a numpy array containing found indices of R peaks\n",
    "    \"\"\"\n",
    "    _, rpeaks = nk.ecg_peaks(signal_lead, sampling_rate=fs)\n",
    "    return rpeaks[\"ECG_R_Peaks\"]\n",
    "\n",
    "\n",
    "def get_boundaries_array(ecg_r_peaks: np.ndarray, signal_lead_size: int) -> np.ndarray:\n",
    "    \"\"\"method to get boundaries array from ecg R-peaks and signal lead size\n",
    "\n",
    "    Args:\n",
    "        ecg_r_peaks (np.ndarray): numpy array containing found R-peaks indices\n",
    "        signal_lead_size (int): size of the signal lead\n",
    "\n",
    "    Returns:\n",
    "        np.ndarray: numpy array containing found boundaries indices\n",
    "    \"\"\"\n",
    "    boundaries_array = np.zeros(ecg_r_peaks.size + 2, dtype=int)\n",
    "    boundaries_array[1:-1] = ecg_r_peaks\n",
    "    boundaries_array[-1] = signal_lead_size\n",
    "    return boundaries_array\n",
    "\n",
    "\n",
    "def get_irr_intervals(signal_lead, boundaries_array):\n",
    "    \"\"\"method to get IRR intervals from signal lead and boundaries array\n",
    "\n",
    "    Args:\n",
    "        signal_lead (np.ndarray): a signal recording coming from an ECG lead\n",
    "        boundaries_array (np.ndarray): a numpy array containing found boundaries indices\n",
    "\n",
    "    Returns:\n",
    "        List[List[float]]: a list of list of floats, each sublist is an IRR interval\n",
    "    \"\"\"\n",
    "    n_boundaries = boundaries_array.size\n",
    "    irr_intervals = []\n",
    "    for i in range(n_boundaries - 1):\n",
    "        irr_interval = signal_lead[boundaries_array[i] : boundaries_array[i + 1]]\n",
    "        irr_intervals.append(irr_interval.tolist())\n",
    "    return irr_intervals"
   ]
  },
  {
   "cell_type": "code",
   "execution_count": 3,
   "id": "1e9ff974",
   "metadata": {},
   "outputs": [
    {
     "name": "stdout",
     "output_type": "stream",
     "text": [
      "44693\n",
      "44611\n",
      "62991\n",
      "61918\n",
      "39877\n",
      "39702\n",
      "43493\n",
      "43440\n",
      "49019\n",
      "49035\n",
      "62988\n",
      "63022\n",
      "54964\n",
      "55100\n",
      "37909\n",
      "37979\n",
      "48980\n",
      "50142\n",
      "46359\n",
      "45303\n",
      "55333\n",
      "56163\n",
      "34611\n",
      "34824\n",
      "56636\n",
      "56467\n",
      "38640\n",
      "40269\n",
      "61432\n",
      "60712\n",
      "58073\n",
      "58036\n",
      "38058\n",
      "38024\n",
      "44309\n",
      "44385\n",
      "60471\n",
      "60686\n",
      "45969\n",
      "46269\n",
      "39449\n",
      "57931\n",
      "40748\n",
      "40719\n",
      "59184\n",
      "59263\n"
     ]
    }
   ],
   "source": [
    "PATH_AFDB = \"mit-bih-atrial-fibrillation-database-1.0.0/files\"\n",
    "records_id_list = get_records_id(PATH_AFDB)\n",
    "\n",
    "records_id_libbst.remove(\"00735\")\n",
    "records_id_list.remove(\"03665\")\n",
    "\n",
    "for record_id in records_id_list:\n",
    "    path = f\"{PATH_AFDB}/{record_id}\"\n",
    "    record = wfdb.rdrecord(path)\n",
    "    sample, aux_note, fs = attrgetter(\"sample\", \"aux_note\", \"fs\")(\n",
    "        wfdb.rdann(path, \"atr\")\n",
    "    )\n",
    "\n",
    "    leads = [0, 1]\n",
    "    for lead in leads:\n",
    "        signal_lead = record.p_signal[:, lead]\n",
    "        signal_lead_size = signal_lead.size\n",
    "        ecg_r_peaks = detect_r_peaks(signal_lead, fs)\n",
    "        boundaries_array = get_boundaries_array(ecg_r_peaks, signal_lead_size)\n",
    "        irr_intervals = get_irr_intervals(signal_lead, boundaries_array)\n",
    "\n",
    "        print(len(irr_intervals))"
   ]
  },
  {
   "cell_type": "code",
   "execution_count": 5,
   "id": "cfc77c78",
   "metadata": {},
   "outputs": [
    {
     "data": {
      "text/plain": [
       "array([     96, 2808396, 2820743, 2850351])"
      ]
     },
     "execution_count": 5,
     "metadata": {},
     "output_type": "execute_result"
    }
   ],
   "source": [
    "sample"
   ]
  }
 ],
 "metadata": {
  "kernelspec": {
   "display_name": "Python 3 (ipykernel)",
   "language": "python",
   "name": "python3"
  },
  "language_info": {
   "codemirror_mode": {
    "name": "ipython",
    "version": 3
   },
   "file_extension": ".py",
   "mimetype": "text/x-python",
   "name": "python",
   "nbconvert_exporter": "python",
   "pygments_lexer": "ipython3",
   "version": "3.11.1"
  }
 },
 "nbformat": 4,
 "nbformat_minor": 5
}
