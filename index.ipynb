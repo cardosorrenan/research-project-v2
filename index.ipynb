{
 "cells": [
  {
   "cell_type": "code",
   "execution_count": 51,
   "id": "3e6df15f",
   "metadata": {},
   "outputs": [],
   "source": [
    "from operator import attrgetter\n",
    "from typing import List\n",
    "\n",
    "import neurokit2 as nk\n",
    "import numpy as np\n",
    "import wfdb\n",
    "import csv, os\n"
   ]
  },
  {
   "cell_type": "code",
   "execution_count": 93,
   "id": "f0e31b33",
   "metadata": {},
   "outputs": [],
   "source": [
    "def get_records_id(path: str) -> List[str]:\n",
    "    \"\"\"method to get all available record ids from AFDB\n",
    "\n",
    "    Args:\n",
    "        path (str): the path of MIT-BIH AFDB files\n",
    "\n",
    "    Returns:\n",
    "        List[str]: a list of string containing all records id's\n",
    "    \"\"\"\n",
    "    with open(f\"{path}/RECORDS\") as f:\n",
    "        lines = f.readlines()\n",
    "    return list(map(lambda line: line.strip(), lines))\n",
    "\n",
    "\n",
    "def get_intervals_afib(sample: List[int], aux_note: List[str], signal_len: int) -> List[List[int]]:\n",
    "    \"\"\"\n",
    "    Get the intervals of atrial fibrillation (AFIB) from a list of sample values and corresponding annotations.\n",
    "\n",
    "    Args:\n",
    "    - sample (List[int]): A list of ECG sample values.\n",
    "    - aux_note (List[str]): A list of annotation labels for each sample.\n",
    "\n",
    "    Returns:\n",
    "    - afib_intervals (List[List[int]]): A list of start and end indices for each interval of AFIB. \n",
    "    \"\"\"\n",
    "    afib_intervals = []\n",
    "    for i, label in enumerate(aux_note):\n",
    "        if label == \"(AFIB\":\n",
    "            afib_start = sample[i]\n",
    "            last_notation = len(sample) == (i+1)\n",
    "            afib_end = signal_len if last_notation else sample[i+1] - 1\n",
    "            afib_intervals.append([afib_start, afib_end])\n",
    "    return afib_intervals\n",
    "\n",
    "\n",
    "def get_values_within_intervals(intervals: List[List[int]], signal: List[float]) -> List[float]:\n",
    "    \"\"\"\n",
    "    Extract values from a signal within the specified intervals.\n",
    "\n",
    "    Args:\n",
    "    - intervals (List[List[int]]): A list of start and end indices for each interval of interest.\n",
    "    - signal (List[float]): A list of values representing a signal.\n",
    "\n",
    "    Returns:\n",
    "    - values_within_intervals (List[float]): A list of values within the specified intervals.\n",
    "    \"\"\"\n",
    "    values_within_intervals = []\n",
    "    for interval in intervals:\n",
    "        start_index, end_index = interval\n",
    "        if start_index < 0 or end_index > len(signal) or start_index > end_index:\n",
    "            # Skip invalid intervals\n",
    "            continue  \n",
    "        values_within_intervals.extend(signal[start_index:end_index+1])\n",
    "    return values_within_intervals\n",
    "\n",
    "\n",
    "def extract_rri_signal(ecg_r_peaks: np.ndarray, signal_lead_size: int) -> List[float]:\n",
    "    \"\"\"method to get IRR intervals from signal lead and founded R-peaks indices\n",
    "\n",
    "    Args:\n",
    "        ecg_r_peaks (np.ndarray): numpy array containing found R-peaks indices\n",
    "        signal_lead_size (int): a size of signal recording coming from an ECG lead\n",
    "\n",
    "    Returns:\n",
    "        List[float]: a list of floats, is the RRIs extracted from signal\n",
    "    \"\"\"\n",
    "    delimiters = np.zeros(ecg_r_peaks.size + 2, dtype=int)\n",
    "    delimiters[1:-1] = ecg_r_peaks\n",
    "    delimiters[-1] = signal_lead_size\n",
    "    rri_signal = []\n",
    "    for i in range(delimiters.size - 1):\n",
    "        rri_beat = int(delimiters[i + 1] - delimiters[i])\n",
    "        rri_signal.append(rri_beat)\n",
    "    return rri_signal\n",
    "\n",
    "def resample_ms(rri_signal, freq) -> List[float]:\n",
    "    MILISECONDS = 1000\n",
    "    return [(MILISECONDS/freq) * rri for rri in rri_signal]\n",
    "\n",
    "def extract_afib():\n",
    "    AFDB_PATH = \"mit-bih-atrial-fibrillation-database-1.0.0/files\"\n",
    "\n",
    "    # Get list of record IDs\n",
    "    record_ids = get_records_id(AFDB_PATH)\n",
    "\n",
    "    # Remove problematic records\n",
    "    record_ids.remove(\"00735\")\n",
    "    record_ids.remove(\"03665\")\n",
    "\n",
    "    RRI = []\n",
    "    # Process each record\n",
    "    for record_id in record_ids:\n",
    "        record_path = f\"{AFDB_PATH}/{record_id}\"\n",
    "\n",
    "        # Load ECG signal and annotation data\n",
    "        ecg_signal, ecg_metadata = wfdb.rdsamp(record_path)\n",
    "        signal_len = ecg_metadata['sig_len']\n",
    "\n",
    "        # Extract AFIB intervals from annotation data\n",
    "        sample, aux_note = attrgetter(\"sample\", \"aux_note\")(\n",
    "            wfdb.rdann(record_path, \"atr\")\n",
    "        )\n",
    "        afib_intervals = get_intervals_afib(sample, aux_note, signal_len)\n",
    "\n",
    "        # Process each lead in the ECG signal\n",
    "        for lead_idx, lead_signal in enumerate(ecg_signal.T):\n",
    "            # Segment signal into AFIB intervals and detect R-peaks\n",
    "            afib_signal = get_values_within_intervals(afib_intervals, lead_signal)\n",
    "            _, rpeaks = nk.ecg_peaks(afib_signal, sampling_rate=ecg_metadata[\"fs\"])\n",
    "            ecg_rpeaks = rpeaks[\"ECG_R_Peaks\"]\n",
    "\n",
    "            # Compute RRI signal and resample to 1 ms resolution\n",
    "            rri_signal = extract_rri_signal(ecg_rpeaks, signal_len)\n",
    "            rri_signal_ms = resample_ms(rri_signal, ecg_metadata[\"fs\"])\n",
    "            RRI.append(rri_signal_ms)\n",
    "        \n",
    "\n",
    "    directory = \"./RRI\"\n",
    "    if not os.path.exists(directory):\n",
    "        os.makedirs(directory)\n",
    "\n",
    "    np.save(f'{directory}/afib_output.npy', RRI)\n",
    "        "
   ]
  },
  {
   "cell_type": "code",
   "execution_count": 94,
   "id": "1e9ff974",
   "metadata": {},
   "outputs": [
    {
     "name": "stderr",
     "output_type": "stream",
     "text": [
      "/home/renan/Área de Trabalho/research-project-2/venv/lib/python3.11/site-packages/numpy/lib/npyio.py:501: VisibleDeprecationWarning: Creating an ndarray from ragged nested sequences (which is a list-or-tuple of lists-or-tuples-or ndarrays with different lengths or shapes) is deprecated. If you meant to do this, you must specify 'dtype=object' when creating the ndarray.\n",
      "  arr = np.asanyarray(arr)\n"
     ]
    }
   ],
   "source": [
    "extract_afib()"
   ]
  },
  {
   "cell_type": "code",
   "execution_count": 95,
   "id": "040db2e3",
   "metadata": {},
   "outputs": [],
   "source": [
    "my_array = np.load('./RRI/afib_output.npy', allow_pickle=True)"
   ]
  },
  {
   "cell_type": "code",
   "execution_count": 96,
   "id": "93f298d2",
   "metadata": {},
   "outputs": [
    {
     "data": {
      "text/plain": [
       "(46,)"
      ]
     },
     "execution_count": 96,
     "metadata": {},
     "output_type": "execute_result"
    }
   ],
   "source": [
    "my_array.shape"
   ]
  }
 ],
 "metadata": {
  "kernelspec": {
   "display_name": "venv",
   "language": "python",
   "name": "python3"
  },
  "language_info": {
   "codemirror_mode": {
    "name": "ipython",
    "version": 3
   },
   "file_extension": ".py",
   "mimetype": "text/x-python",
   "name": "python",
   "nbconvert_exporter": "python",
   "pygments_lexer": "ipython3",
   "version": "3.11.2"
  },
  "vscode": {
   "interpreter": {
    "hash": "6cff8109849478b80d849fa9b19485249a5dc5257b812874e006f7dba7d5866b"
   }
  }
 },
 "nbformat": 4,
 "nbformat_minor": 5
}
