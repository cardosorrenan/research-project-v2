{
 "cells": [
  {
   "cell_type": "code",
   "execution_count": 53,
   "metadata": {},
   "outputs": [],
   "source": [
    "%run ../extract_segments_bins/extract_segments_bins.ipynb\n",
    "%run ../classifier/classifier.ipynb"
   ]
  },
  {
   "cell_type": "code",
   "execution_count": 54,
   "metadata": {},
   "outputs": [
    {
     "name": "stdout",
     "output_type": "stream",
     "text": [
      "arange in segments...\n"
     ]
    },
    {
     "name": "stderr",
     "output_type": "stream",
     "text": [
      "100%|██████████| 15000/15000 [00:01<00:00, 13210.36it/s]\n"
     ]
    },
    {
     "name": "stdout",
     "output_type": "stream",
     "text": [
      "calculating histograms...\n"
     ]
    },
    {
     "name": "stderr",
     "output_type": "stream",
     "text": [
      "100%|██████████| 15000/15000 [00:02<00:00, 5395.15it/s]\n"
     ]
    },
    {
     "name": "stdout",
     "output_type": "stream",
     "text": [
      "arange in segments...\n"
     ]
    },
    {
     "name": "stderr",
     "output_type": "stream",
     "text": [
      "100%|██████████| 15000/15000 [00:00<00:00, 15738.80it/s]\n"
     ]
    },
    {
     "name": "stdout",
     "output_type": "stream",
     "text": [
      "calculating histograms...\n"
     ]
    },
    {
     "name": "stderr",
     "output_type": "stream",
     "text": [
      "100%|██████████| 15000/15000 [00:05<00:00, 2565.08it/s]\n"
     ]
    },
    {
     "name": "stdout",
     "output_type": "stream",
     "text": [
      "arange in segments...\n"
     ]
    },
    {
     "name": "stderr",
     "output_type": "stream",
     "text": [
      "100%|██████████| 15000/15000 [00:00<00:00, 16269.85it/s]\n"
     ]
    },
    {
     "name": "stdout",
     "output_type": "stream",
     "text": [
      "calculating histograms...\n"
     ]
    },
    {
     "name": "stderr",
     "output_type": "stream",
     "text": [
      "100%|██████████| 15000/15000 [00:08<00:00, 1717.29it/s]\n"
     ]
    },
    {
     "name": "stdout",
     "output_type": "stream",
     "text": [
      "10 15000 auto (10, 10)\n"
     ]
    },
    {
     "name": "stderr",
     "output_type": "stream",
     "text": [
      "/home/renan/Área de Trabalho/research-project-2/venv/lib/python3.11/site-packages/sklearn/neural_network/_multilayer_perceptron.py:614: ConvergenceWarning: Stochastic Optimizer: Maximum iterations (64) reached and the optimization hasn't converged yet.\n",
      "  warnings.warn(\n"
     ]
    },
    {
     "name": "stdout",
     "output_type": "stream",
     "text": [
      "[0.7082222222222222, 0.9466666666666667, 0.23133333333333334]\n",
      "10 15000 auto (20, 20)\n"
     ]
    },
    {
     "name": "stderr",
     "output_type": "stream",
     "text": [
      "/home/renan/Área de Trabalho/research-project-2/venv/lib/python3.11/site-packages/sklearn/neural_network/_multilayer_perceptron.py:614: ConvergenceWarning: Stochastic Optimizer: Maximum iterations (64) reached and the optimization hasn't converged yet.\n",
      "  warnings.warn(\n"
     ]
    },
    {
     "name": "stdout",
     "output_type": "stream",
     "text": [
      "[0.7171111111111111, 0.927, 0.29733333333333334]\n",
      "10 15000 auto (30, 30)\n"
     ]
    },
    {
     "name": "stderr",
     "output_type": "stream",
     "text": [
      "/home/renan/Área de Trabalho/research-project-2/venv/lib/python3.11/site-packages/sklearn/neural_network/_multilayer_perceptron.py:614: ConvergenceWarning: Stochastic Optimizer: Maximum iterations (64) reached and the optimization hasn't converged yet.\n",
      "  warnings.warn(\n"
     ]
    },
    {
     "name": "stdout",
     "output_type": "stream",
     "text": [
      "[0.7224444444444444, 0.9376666666666666, 0.292]\n",
      "10 15000 auto (40, 40)\n"
     ]
    },
    {
     "name": "stderr",
     "output_type": "stream",
     "text": [
      "/home/renan/Área de Trabalho/research-project-2/venv/lib/python3.11/site-packages/sklearn/neural_network/_multilayer_perceptron.py:614: ConvergenceWarning: Stochastic Optimizer: Maximum iterations (64) reached and the optimization hasn't converged yet.\n",
      "  warnings.warn(\n",
      "/home/renan/Área de Trabalho/research-project-2/venv/lib/python3.11/site-packages/sklearn/neural_network/_multilayer_perceptron.py:619: UserWarning: Training interrupted by user.\n",
      "  warnings.warn(\"Training interrupted by user.\")\n"
     ]
    }
   ],
   "source": [
    "SEGMENT_SIZES = [10, 20, 30, 40, 50]\n",
    "M_BINS_SIZES = [10, 20, 30, 40, 50]\n",
    "NODES_NN = [(10, 10), (20, 20), (30, 30), (40, 40), (50, 50)]\n",
    "RANGES_HIST = [None, (0, 5000), (50, 2500), (50, 2000)]\n",
    "\n",
    "QUANTITY_SEGMENTS = 15000\n",
    "DATABASES = [\"AFDB\", \"NSRDB\", \"LTAFDB\"]\n",
    "\n",
    "for SEGMENT_SIZE in SEGMENT_SIZES:\n",
    "    for M_BINS in M_BINS_SIZES:\n",
    "        for RANGE_HIST in RANGES_HIST:\n",
    "            base = extract_segments_bins(\n",
    "                databases=DATABASES,\n",
    "                m_bins=M_BINS,\n",
    "                qtd_segments=QUANTITY_SEGMENTS,\n",
    "                segment_size=SEGMENT_SIZE,\n",
    "                range_hist=RANGE_HIST,\n",
    "            )\n",
    "\n",
    "            for NODE_NN in NODES_NN:\n",
    "                if not (RANGE_HIST):\n",
    "                    RANGE_HIST = \"auto\"\n",
    "\n",
    "                print(SEGMENT_SIZE, QUANTITY_SEGMENTS, RANGE_HIST, NODE_NN)\n",
    "\n",
    "                best_params = {\n",
    "                    \"activation\": \"tanh\",\n",
    "                    \"alpha\": 2.6e-06,\n",
    "                    \"beta_1\": 0.999,\n",
    "                    \"beta_2\": 0.9,\n",
    "                    \"hidden_layer_sizes\": NODE_NN,\n",
    "                    \"max_iter\": 64,\n",
    "                    \"n_iter_no_change\": 32,\n",
    "                    \"validation_fraction\": 0.0,\n",
    "                    \"warm_start\": True,\n",
    "                }\n",
    "\n",
    "                model, report = classifier(base=base, params=best_params)\n",
    "\n",
    "                report.persist_report_resume(\n",
    "                    SEGMENT_SIZE, M_BINS, QUANTITY_SEGMENTS, RANGE_HIST, model\n",
    "                )"
   ]
  }
 ],
 "metadata": {
  "kernelspec": {
   "display_name": "venv",
   "language": "python",
   "name": "python3"
  },
  "language_info": {
   "codemirror_mode": {
    "name": "ipython",
    "version": 3
   },
   "file_extension": ".py",
   "mimetype": "text/x-python",
   "name": "python",
   "nbconvert_exporter": "python",
   "pygments_lexer": "ipython3",
   "version": "3.11.3"
  },
  "orig_nbformat": 4
 },
 "nbformat": 4,
 "nbformat_minor": 2
}
