{
 "cells": [
  {
   "cell_type": "code",
   "execution_count": 1,
   "metadata": {},
   "outputs": [],
   "source": [
    "from sklearn.model_selection import StratifiedKFold\n",
    "from sklearn.neural_network import MLPClassifier\n",
    "from sklearn.model_selection import StratifiedShuffleSplit"
   ]
  },
  {
   "cell_type": "code",
   "execution_count": 6,
   "metadata": {},
   "outputs": [],
   "source": [
    "%run ../classifier/report.ipynb"
   ]
  },
  {
   "cell_type": "code",
   "execution_count": 8,
   "metadata": {},
   "outputs": [],
   "source": [
    "default_params = {\n",
    "    \"activation\": \"relu\",\n",
    "    \"alpha\": 0.0001,\n",
    "    \"beta_1\": 0.9,\n",
    "    \"beta_2\": 0.999,\n",
    "    \"hidden_layer_sizes\": (100,),\n",
    "    \"max_iter\": 200,\n",
    "    \"n_iter_no_change\": 10,\n",
    "    \"validation_fraction\": 0.1,\n",
    "    \"warm_start\": False,\n",
    "}\n",
    "\n",
    "\n",
    "def get_model(params=default_params):\n",
    "    return MLPClassifier(**params)\n",
    "\n",
    "\n",
    "def classifier(base, train_size=False, params={}):\n",
    "    model = get_model(params)\n",
    "\n",
    "    if train_size != False:\n",
    "        cross_validation = StratifiedShuffleSplit(n_splits=10, train_size=train_size)\n",
    "    else:\n",
    "        cross_validation = StratifiedKFold(n_splits=10, shuffle=True)\n",
    "\n",
    "    report = Report()\n",
    "\n",
    "    y = base[:, -1]\n",
    "    X = base[:, 0:-1]\n",
    "\n",
    "    for train_index, test_index in cross_validation.split(X, y):\n",
    "        x_train_fold, x_test_fold = X[train_index], X[test_index]\n",
    "        y_train_fold, y_test_fold = y[train_index], y[test_index]\n",
    "        model.fit(x_train_fold, y_train_fold)\n",
    "        y_pred = model.predict(x_test_fold)\n",
    "        report.register_report_fold(y=y_test_fold, y_pred=y_pred)\n",
    "\n",
    "    print(report.report_folds[-1])\n",
    "    report.print_report()\n",
    "    return model, report"
   ]
  }
 ],
 "metadata": {
  "kernelspec": {
   "display_name": "venv",
   "language": "python",
   "name": "python3"
  },
  "language_info": {
   "codemirror_mode": {
    "name": "ipython",
    "version": 3
   },
   "file_extension": ".py",
   "mimetype": "text/x-python",
   "name": "python",
   "nbconvert_exporter": "python",
   "pygments_lexer": "ipython3",
   "version": "3.11.4"
  },
  "orig_nbformat": 4
 },
 "nbformat": 4,
 "nbformat_minor": 2
}
