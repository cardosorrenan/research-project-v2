{
 "cells": [
  {
   "cell_type": "code",
   "execution_count": 1,
   "metadata": {},
   "outputs": [],
   "source": [
    "%run ./extract_segments_tq.ipynb\n",
    "%run ./extract_segments_bins.ipynb\n",
    "%run ./classifier.ipynb"
   ]
  },
  {
   "cell_type": "code",
   "execution_count": 2,
   "metadata": {},
   "outputs": [
    {
     "name": "stdout",
     "output_type": "stream",
     "text": [
      "./segments_bins/mb25_ss25_rh0-2500.npy\n"
     ]
    },
    {
     "name": "stderr",
     "output_type": "stream",
     "text": [
      "  4%|▍         | 1/23 [00:05<02:05,  5.72s/it]\n"
     ]
    },
    {
     "ename": "KeyboardInterrupt",
     "evalue": "",
     "output_type": "error",
     "traceback": [
      "\u001b[0;31m---------------------------------------------------------------------------\u001b[0m",
      "\u001b[0;31mKeyboardInterrupt\u001b[0m                         Traceback (most recent call last)",
      "Cell \u001b[0;32mIn[2], line 9\u001b[0m\n\u001b[1;32m      1\u001b[0m params \u001b[39m=\u001b[39m {\n\u001b[1;32m      2\u001b[0m     \u001b[39m\"\u001b[39m\u001b[39mm_bins\u001b[39m\u001b[39m\"\u001b[39m: \u001b[39m25\u001b[39m,\n\u001b[1;32m      3\u001b[0m     \u001b[39m\"\u001b[39m\u001b[39mqtd_segments\u001b[39m\u001b[39m\"\u001b[39m: \u001b[39mFalse\u001b[39;00m,\n\u001b[1;32m      4\u001b[0m     \u001b[39m\"\u001b[39m\u001b[39msegment_size\u001b[39m\u001b[39m\"\u001b[39m: \u001b[39m25\u001b[39m,\n\u001b[1;32m      5\u001b[0m     \u001b[39m\"\u001b[39m\u001b[39mrange_hist\u001b[39m\u001b[39m\"\u001b[39m: (\u001b[39m0\u001b[39m, \u001b[39m2500\u001b[39m),\n\u001b[1;32m      6\u001b[0m }\n\u001b[1;32m      8\u001b[0m base1 \u001b[39m=\u001b[39m extract_segments_bins(params)\n\u001b[0;32m----> 9\u001b[0m base2 \u001b[39m=\u001b[39m extract_segments_tq()\n\u001b[1;32m     11\u001b[0m model \u001b[39m=\u001b[39m classifier_ensembled(base1\u001b[39m=\u001b[39mbase1, base2\u001b[39m=\u001b[39mbase2)\n\u001b[1;32m     12\u001b[0m \u001b[39m#report.persist_report_resume(**best_params, model=model)\u001b[39;00m\n",
      "File \u001b[0;32m/tmp/ipykernel_206154/1600662428.py:187\u001b[0m, in \u001b[0;36mextract_segments_tq\u001b[0;34m()\u001b[0m\n\u001b[1;32m    185\u001b[0m signal_recording \u001b[39m=\u001b[39m rec\u001b[39m.\u001b[39mp_signal[:, \u001b[39m0\u001b[39m][start_index:end_index]\n\u001b[1;32m    186\u001b[0m signal_recording \u001b[39m=\u001b[39m filter_signal(signal_recording)\n\u001b[0;32m--> 187\u001b[0m ann \u001b[39m=\u001b[39m wfdb\u001b[39m.\u001b[39;49mrdann(\n\u001b[1;32m    188\u001b[0m     record_path,\n\u001b[1;32m    189\u001b[0m     sampfrom\u001b[39m=\u001b[39;49mstart_index,\n\u001b[1;32m    190\u001b[0m     sampto\u001b[39m=\u001b[39;49mend_index,\n\u001b[1;32m    191\u001b[0m     extension\u001b[39m=\u001b[39;49mextension_signal,\n\u001b[1;32m    192\u001b[0m )\n\u001b[1;32m    194\u001b[0m r_peaks \u001b[39m=\u001b[39m [i \u001b[39m-\u001b[39m start_index \u001b[39mfor\u001b[39;00m i \u001b[39min\u001b[39;00m ann\u001b[39m.\u001b[39msample]\n\u001b[1;32m    196\u001b[0m fs \u001b[39m=\u001b[39m \u001b[39m250\u001b[39m\n",
      "File \u001b[0;32m~/Área de Trabalho/research-project-2/venv/lib/python3.11/site-packages/wfdb/io/annotation.py:1953\u001b[0m, in \u001b[0;36mrdann\u001b[0;34m(record_name, extension, sampfrom, sampto, shift_samps, pn_dir, return_label_elements, summarize_labels)\u001b[0m\n\u001b[1;32m   1950\u001b[0m filebytes \u001b[39m=\u001b[39m load_byte_pairs(record_name, extension, pn_dir)\n\u001b[1;32m   1952\u001b[0m \u001b[39m# Get WFDB annotation fields from the file bytes\u001b[39;00m\n\u001b[0;32m-> 1953\u001b[0m (sample, label_store, subtype, chan, num, aux_note) \u001b[39m=\u001b[39m proc_ann_bytes(\n\u001b[1;32m   1954\u001b[0m     filebytes, sampto\n\u001b[1;32m   1955\u001b[0m )\n\u001b[1;32m   1957\u001b[0m \u001b[39m# Get the indices of annotations that hold definition information about\u001b[39;00m\n\u001b[1;32m   1958\u001b[0m \u001b[39m# the entire annotation file, and other empty annotations to be removed.\u001b[39;00m\n\u001b[1;32m   1959\u001b[0m potential_definition_inds, rm_inds \u001b[39m=\u001b[39m get_special_inds(\n\u001b[1;32m   1960\u001b[0m     sample, label_store, aux_note\n\u001b[1;32m   1961\u001b[0m )\n",
      "File \u001b[0;32m~/Área de Trabalho/research-project-2/venv/lib/python3.11/site-packages/wfdb/io/annotation.py:2182\u001b[0m, in \u001b[0;36mproc_ann_bytes\u001b[0;34m(filebytes, sampto)\u001b[0m\n\u001b[1;32m   2179\u001b[0m     current_label_store \u001b[39m=\u001b[39m filebytes[bpi, \u001b[39m1\u001b[39m] \u001b[39m>>\u001b[39m \u001b[39m2\u001b[39m\n\u001b[1;32m   2181\u001b[0m \u001b[39m# Set defaults or carry over previous values if necessary\u001b[39;00m\n\u001b[0;32m-> 2182\u001b[0m subtype, chan, num, aux_note \u001b[39m=\u001b[39m update_extra_fields(\n\u001b[1;32m   2183\u001b[0m     subtype, chan, num, aux_note, update\n\u001b[1;32m   2184\u001b[0m )\n\u001b[1;32m   2186\u001b[0m \u001b[39mif\u001b[39;00m sampto \u001b[39mand\u001b[39;00m sampto \u001b[39m<\u001b[39m sample_total:\n\u001b[1;32m   2187\u001b[0m     sample, label_store, subtype, chan, num, aux_note \u001b[39m=\u001b[39m rm_last(\n\u001b[1;32m   2188\u001b[0m         sample, label_store, subtype, chan, num, aux_note\n\u001b[1;32m   2189\u001b[0m     )\n",
      "File \u001b[0;32m~/Área de Trabalho/research-project-2/venv/lib/python3.11/site-packages/wfdb/io/annotation.py:2335\u001b[0m, in \u001b[0;36mupdate_extra_fields\u001b[0;34m(subtype, chan, num, aux_note, update)\u001b[0m\n\u001b[1;32m   2330\u001b[0m         bpi \u001b[39m=\u001b[39m bpi \u001b[39m+\u001b[39m \u001b[39m1\u001b[39m \u001b[39m+\u001b[39m \u001b[39mint\u001b[39m(np\u001b[39m.\u001b[39mceil(aux_notelen \u001b[39m/\u001b[39m \u001b[39m2.0\u001b[39m))\n\u001b[1;32m   2332\u001b[0m     \u001b[39mreturn\u001b[39;00m subtype, chan, num, aux_note, update, bpi\n\u001b[0;32m-> 2335\u001b[0m \u001b[39mdef\u001b[39;00m \u001b[39mupdate_extra_fields\u001b[39m(subtype, chan, num, aux_note, update):\n\u001b[1;32m   2336\u001b[0m \u001b[39m    \u001b[39m\u001b[39m\"\"\"\u001b[39;00m\n\u001b[1;32m   2337\u001b[0m \u001b[39m    Update the field if the current annotation did not\u001b[39;00m\n\u001b[1;32m   2338\u001b[0m \u001b[39m    provide a value.\u001b[39;00m\n\u001b[0;32m   (...)\u001b[0m\n\u001b[1;32m   2372\u001b[0m \n\u001b[1;32m   2373\u001b[0m \u001b[39m    \"\"\"\u001b[39;00m\n\u001b[1;32m   2374\u001b[0m     \u001b[39mif\u001b[39;00m update[\u001b[39m\"\u001b[39m\u001b[39msubtype\u001b[39m\u001b[39m\"\u001b[39m]:\n",
      "\u001b[0;31mKeyboardInterrupt\u001b[0m: "
     ]
    }
   ],
   "source": [
    "params = {\n",
    "    \"m_bins\": 25,\n",
    "    \"qtd_segments\": False,\n",
    "    \"segment_size\": 25,\n",
    "    \"range_hist\": (0, 2500),\n",
    "}\n",
    "\n",
    "base1 = extract_segments_bins(params)\n",
    "base2 = extract_segments_tq()\n",
    "\n",
    "model = classifier_ensembled(base1=base1, base2=base2)\n",
    "# report.persist_report_resume(**best_params, model=model)"
   ]
  },
  {
   "cell_type": "code",
   "execution_count": 7,
   "metadata": {},
   "outputs": [
    {
     "data": {
      "text/plain": [
       "['0.9946+-0.0008', '0.9958+-0.001', '0.9939+-0.0011']"
      ]
     },
     "execution_count": 7,
     "metadata": {},
     "output_type": "execute_result"
    }
   ],
   "source": [
    "report.report_resume"
   ]
  },
  {
   "cell_type": "code",
   "execution_count": 4,
   "metadata": {},
   "outputs": [
    {
     "data": {
      "text/plain": [
       "<__main__.Report at 0x7fd18c5232d0>"
      ]
     },
     "execution_count": 4,
     "metadata": {},
     "output_type": "execute_result"
    }
   ],
   "source": [
    "report"
   ]
  },
  {
   "cell_type": "code",
   "execution_count": 11,
   "metadata": {},
   "outputs": [
    {
     "data": {
      "text/plain": [
       "508116"
      ]
     },
     "execution_count": 11,
     "metadata": {},
     "output_type": "execute_result"
    }
   ],
   "source": [
    "rri_output.size"
   ]
  }
 ],
 "metadata": {
  "kernelspec": {
   "display_name": "venv",
   "language": "python",
   "name": "python3"
  },
  "language_info": {
   "codemirror_mode": {
    "name": "ipython",
    "version": 3
   },
   "file_extension": ".py",
   "mimetype": "text/x-python",
   "name": "python",
   "nbconvert_exporter": "python",
   "pygments_lexer": "ipython3",
   "version": "3.11.4"
  },
  "orig_nbformat": 4
 },
 "nbformat": 4,
 "nbformat_minor": 2
}
