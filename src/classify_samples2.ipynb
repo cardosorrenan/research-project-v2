{
 "cells": [
  {
   "cell_type": "code",
   "execution_count": 1,
   "metadata": {},
   "outputs": [],
   "source": [
    "import os\n",
    "import numpy as np\n",
    "from sklearn.neural_network import MLPClassifier\n",
    "from sklearn.svm import SVC\n",
    "from xgboost import XGBClassifier\n",
    "import numpy as np\n",
    "from sklearn.model_selection import cross_val_score, KFold\n",
    "from sklearn.decomposition import PCA\n",
    "from sklearn.pipeline import Pipeline"
   ]
  },
  {
   "cell_type": "code",
   "execution_count": 2,
   "metadata": {},
   "outputs": [],
   "source": [
    "directory = \"./\"\n",
    "filename = \"base.npy\"\n",
    "\n",
    "path_pos = os.path.join(directory, \"random_samples_pos.npy\")\n",
    "path_neg = os.path.join(directory, \"random_samples_neg.npy\")\n",
    "\n",
    "if os.path.isfile(path_pos) and os.path.isfile(path_neg):\n",
    "    base_pos = np.load(path_pos)\n",
    "    base_neg = np.load(path_neg)\n",
    "\n",
    "    positives = base_pos[np.random.choice(base_pos.shape[0], base_pos.shape[0])]\n",
    "    negatives = base_neg[np.random.choice(base_neg.shape[0], base_pos.shape[0])]\n",
    "\n",
    "    base_ready = np.vstack((positives, negatives))"
   ]
  },
  {
   "cell_type": "code",
   "execution_count": 5,
   "metadata": {},
   "outputs": [],
   "source": [
    "y = np.hstack((np.ones(200), np.zeros(200)))\n",
    "X = base_ready"
   ]
  },
  {
   "cell_type": "markdown",
   "metadata": {},
   "source": [
    "# SVM"
   ]
  },
  {
   "cell_type": "code",
   "execution_count": 27,
   "metadata": {},
   "outputs": [
    {
     "name": "stdout",
     "output_type": "stream",
     "text": [
      "Cross-validation scores: [0.975  0.9625 0.9875 0.9375 1.    ]\n",
      "Mean accuracy: 0.97 (+/- 0.02)\n"
     ]
    }
   ],
   "source": [
    "svm_classifier = SVC(kernel=\"linear\", C=1)\n",
    "kf = KFold(n_splits=5, shuffle=True)\n",
    "scores = cross_val_score(svm_classifier, X, y, cv=kf)\n",
    "\n",
    "print(\"Cross-validation scores:\", scores)\n",
    "\n",
    "mean_score = np.mean(scores)\n",
    "std_deviation = np.std(scores)\n",
    "print(f\"Mean accuracy: {mean_score:.2f} (+/- {std_deviation:.2f})\")"
   ]
  },
  {
   "cell_type": "markdown",
   "metadata": {},
   "source": [
    "# PCA + SVM"
   ]
  },
  {
   "cell_type": "code",
   "execution_count": 6,
   "metadata": {},
   "outputs": [
    {
     "name": "stdout",
     "output_type": "stream",
     "text": [
      "Cross-validation scores: [1. 1. 1. 1. 1.]\n",
      "Mean accuracy: 1.00 (+/- 0.00)\n"
     ]
    }
   ],
   "source": [
    "pca = PCA(n_components=4)\n",
    "\n",
    "svm_classifier = SVC(kernel=\"linear\", C=1)\n",
    "xgb_classifier = XGBClassifier()\n",
    "pipeline = Pipeline([(\"pca\", pca), (\"svm\", xgb_classifier)])\n",
    "\n",
    "kf = KFold(n_splits=5, shuffle=True)\n",
    "scores = cross_val_score(pipeline, X, y, cv=kf)\n",
    "\n",
    "print(\"Cross-validation scores:\", scores)\n",
    "\n",
    "mean_score = np.mean(scores)\n",
    "std_deviation = np.std(scores)\n",
    "print(f\"Mean accuracy: {mean_score:.2f} (+/- {std_deviation:.2f})\")"
   ]
  },
  {
   "cell_type": "markdown",
   "metadata": {},
   "source": [
    "# XGBOOST"
   ]
  },
  {
   "cell_type": "code",
   "execution_count": 29,
   "metadata": {},
   "outputs": [
    {
     "name": "stdout",
     "output_type": "stream",
     "text": [
      "Cross-validation scores: [0.9375 0.975  0.9875 0.95   1.    ]\n",
      "Mean accuracy: 0.97 (+/- 0.02)\n"
     ]
    }
   ],
   "source": [
    "xgb_classifier = XGBClassifier()\n",
    "kf = KFold(n_splits=5, shuffle=True)\n",
    "scores = cross_val_score(xgb_classifier, X, y, cv=kf)\n",
    "\n",
    "# Print the cross-validation scores\n",
    "print(\"Cross-validation scores:\", scores)\n",
    "\n",
    "# Calculate and print the mean and standard deviation of the scores\n",
    "mean_score = np.mean(scores)\n",
    "std_deviation = np.std(scores)\n",
    "print(f\"Mean accuracy: {mean_score:.2f} (+/- {std_deviation:.2f})\")"
   ]
  },
  {
   "cell_type": "markdown",
   "metadata": {},
   "source": [
    "# MLP qualis"
   ]
  },
  {
   "cell_type": "code",
   "execution_count": 36,
   "metadata": {},
   "outputs": [
    {
     "name": "stdout",
     "output_type": "stream",
     "text": [
      "Cross-validation scores: [1.     0.9875 0.975  0.9875 0.9625]\n",
      "Mean accuracy: 0.98 (+/- 0.01)\n"
     ]
    }
   ],
   "source": [
    "model1 = MLPClassifier(\n",
    "    activation=\"tanh\",\n",
    "    alpha=2.6e-06,\n",
    "    beta_1=0.999,\n",
    "    beta_2=0.9,\n",
    "    hidden_layer_sizes=(50, 50),\n",
    "    max_iter=64,\n",
    "    n_iter_no_change=32,\n",
    "    validation_fraction=0.0,\n",
    "    warm_start=True,\n",
    ")\n",
    "\n",
    "\n",
    "kf = KFold(n_splits=5, shuffle=True)\n",
    "scores = cross_val_score(pipeline, X, y, cv=kf)\n",
    "\n",
    "print(\"Cross-validation scores:\", scores)\n",
    "\n",
    "mean_score = np.mean(scores)\n",
    "std_deviation = np.std(scores)\n",
    "print(f\"Mean accuracy: {mean_score:.2f} (+/- {std_deviation:.2f})\")"
   ]
  }
 ],
 "metadata": {
  "kernelspec": {
   "display_name": "venv",
   "language": "python",
   "name": "python3"
  },
  "language_info": {
   "codemirror_mode": {
    "name": "ipython",
    "version": 3
   },
   "file_extension": ".py",
   "mimetype": "text/x-python",
   "name": "python",
   "nbconvert_exporter": "python",
   "pygments_lexer": "ipython3",
   "version": "3.8.17"
  },
  "orig_nbformat": 4
 },
 "nbformat": 4,
 "nbformat_minor": 2
}
