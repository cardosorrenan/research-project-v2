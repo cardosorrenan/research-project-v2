{
 "cells": [
  {
   "cell_type": "code",
   "execution_count": 7,
   "id": "5803fa7e",
   "metadata": {},
   "outputs": [],
   "source": [
    "import numpy as np\n",
    "from tqdm import tqdm"
   ]
  },
  {
   "cell_type": "code",
   "execution_count": 28,
   "id": "30f7fb5d",
   "metadata": {},
   "outputs": [],
   "source": [
    "def extract_segments_bins(\n",
    "    databases=[], m_bins=50, qtd_segments=200, segment_size=50, range_hist=(0, 2500)\n",
    "):\n",
    "    base = np.empty((0, m_bins + 1))\n",
    "\n",
    "    for db in databases:\n",
    "        label = 0 if db == \"NSRDB\" else 1\n",
    "\n",
    "        rri_output = np.load(f\"../extract_rri/rri/{db}.npy\")\n",
    "\n",
    "        rri_output = rri_output[0 : qtd_segments * segment_size]\n",
    "\n",
    "        rri_size = rri_output.shape[0]\n",
    "\n",
    "        segments = np.empty((0, segment_size))\n",
    "        print(\"arange in segments...\")\n",
    "        for i in tqdm(range(0, rri_size, segment_size)):\n",
    "            segment = rri_output[i : i + segment_size]\n",
    "            if segment.shape[0] == segment_size:\n",
    "                segments = np.vstack((segments, segment))\n",
    "\n",
    "        print(\"calculating histograms...\")\n",
    "        for segment in tqdm(segments):\n",
    "            hist, _ = np.histogram(a=segment, range=range_hist, bins=m_bins)\n",
    "            x = hist\n",
    "            y = label\n",
    "            row = np.append(x, y)\n",
    "            row = row.reshape((1, row.shape[0]))\n",
    "            base = np.vstack((base, row))\n",
    "    \n",
    "    num_rows = base.shape[0]\n",
    "    permutation = np.random.permutation(num_rows)\n",
    "    shuffled_base = base[permutation].copy()\n",
    "\n",
    "    return shuffled_base"
   ]
  },
  {
   "cell_type": "code",
   "execution_count": 30,
   "id": "cde308be",
   "metadata": {},
   "outputs": [],
   "source": [
    "DATABASES = [\"AFDB\", \"NSRDB\", \"LTAFDB\"]\n",
    "# base = extract_segments_bins(databases=DATABASES)"
   ]
  }
 ],
 "metadata": {
  "kernelspec": {
   "display_name": "venv",
   "language": "python",
   "name": "python3"
  },
  "language_info": {
   "codemirror_mode": {
    "name": "ipython",
    "version": 3
   },
   "file_extension": ".py",
   "mimetype": "text/x-python",
   "name": "python",
   "nbconvert_exporter": "python",
   "pygments_lexer": "ipython3",
   "version": "3.11.3"
  },
  "vscode": {
   "interpreter": {
    "hash": "6cff8109849478b80d849fa9b19485249a5dc5257b812874e006f7dba7d5866b"
   }
  }
 },
 "nbformat": 4,
 "nbformat_minor": 5
}
