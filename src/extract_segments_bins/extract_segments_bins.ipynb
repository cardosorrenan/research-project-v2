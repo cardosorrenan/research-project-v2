{
 "cells": [
  {
   "cell_type": "code",
   "execution_count": 2,
   "id": "5803fa7e",
   "metadata": {},
   "outputs": [],
   "source": [
    "import numpy as np\n",
    "from tqdm import tqdm\n",
    "import os"
   ]
  },
  {
   "cell_type": "code",
   "execution_count": 5,
   "id": "30f7fb5d",
   "metadata": {},
   "outputs": [],
   "source": [
    "def get_random_samples_by_label(base, n_samples, label):\n",
    "    samples = base[base[:, -1] == label]\n",
    "\n",
    "    if n_samples:\n",
    "        indexes = np.random.choice(samples.shape[0], n_samples, replace=False)\n",
    "        return samples[indexes]\n",
    "\n",
    "    return samples\n",
    "\n",
    "\n",
    "def get_random_samples(base, qtd_segments):\n",
    "    # qtd_segments each label\n",
    "    qtd_segments = int(qtd_segments / 2)\n",
    "    negatives = get_random_samples_by_label(base=base, n_samples=qtd_segments, label=0)\n",
    "    positives = get_random_samples_by_label(base=base, n_samples=qtd_segments, label=1)\n",
    "    base_ready = np.vstack((positives, negatives))\n",
    "    np.random.shuffle(base_ready)\n",
    "    return base_ready\n",
    "\n",
    "\n",
    "def extract_segments_bins(databases, m_bins, qtd_segments, segment_size, range_hist):\n",
    "    directory = \"./segments_bins\"\n",
    "    if not os.path.exists(directory):\n",
    "        os.makedirs(directory)\n",
    "\n",
    "    filename = f\"mb{m_bins}_ss{segment_size}_rh{range_hist[0]}-{range_hist[1]}.npy\"\n",
    "    path = os.path.join(directory, filename)\n",
    "\n",
    "    if os.path.isfile(path):\n",
    "        segment_bins = np.load(path)\n",
    "        return get_random_samples(segment_bins, qtd_segments)\n",
    "\n",
    "    base = np.empty((0, m_bins + 1))\n",
    "\n",
    "    for db in databases:\n",
    "        label = 0 if db == \"NSRDB\" else 1\n",
    "\n",
    "        rri_output = np.load(f\"../extract_rri/rri/{db}.npy\")\n",
    "\n",
    "        rri_size = rri_output.shape[0]\n",
    "\n",
    "        segments = np.empty((0, segment_size))\n",
    "        print(\"arange in segments...\")\n",
    "        for i in tqdm(range(0, rri_size, segment_size)):\n",
    "            segment = rri_output[i : i + segment_size]\n",
    "            if segment.shape[0] == segment_size:\n",
    "                segments = np.vstack((segments, segment))\n",
    "\n",
    "        print(\"calculating histograms...\")\n",
    "        for segment in tqdm(segments):\n",
    "            hist, _ = np.histogram(a=segment, range=range_hist, bins=m_bins)\n",
    "            x = hist\n",
    "            y = label\n",
    "            row = np.append(x, y)\n",
    "            row = row.reshape((1, row.shape[0]))\n",
    "            base = np.vstack((base, row))\n",
    "\n",
    "    num_rows = base.shape[0]\n",
    "    permutation = np.random.permutation(num_rows)\n",
    "    shuffled_base = base[permutation].copy()\n",
    "\n",
    "    np.save(path, shuffled_base)\n",
    "\n",
    "    return get_random_samples(shuffled_base, qtd_segments)"
   ]
  },
  {
   "cell_type": "code",
   "execution_count": 30,
   "id": "cde308be",
   "metadata": {},
   "outputs": [],
   "source": [
    "# base = extract_segments_bins(databases=DATABASES)"
   ]
  }
 ],
 "metadata": {
  "kernelspec": {
   "display_name": "venv",
   "language": "python",
   "name": "python3"
  },
  "language_info": {
   "codemirror_mode": {
    "name": "ipython",
    "version": 3
   },
   "file_extension": ".py",
   "mimetype": "text/x-python",
   "name": "python",
   "nbconvert_exporter": "python",
   "pygments_lexer": "ipython3",
   "version": "3.11.4"
  },
  "vscode": {
   "interpreter": {
    "hash": "6cff8109849478b80d849fa9b19485249a5dc5257b812874e006f7dba7d5866b"
   }
  }
 },
 "nbformat": 4,
 "nbformat_minor": 5
}
