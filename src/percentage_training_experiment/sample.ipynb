{
 "cells": [
  {
   "cell_type": "code",
   "execution_count": 7,
   "metadata": {},
   "outputs": [],
   "source": [
    "%run ../extract_segments_bins/extract_segments_bins.ipynb\n",
    "%run ../classifier/classifier.ipynb"
   ]
  },
  {
   "cell_type": "code",
   "execution_count": 8,
   "metadata": {},
   "outputs": [
    {
     "name": "stdout",
     "output_type": "stream",
     "text": [
      "opa\n"
     ]
    },
    {
     "name": "stderr",
     "output_type": "stream",
     "text": [
      "/home/renan/Área de Trabalho/research-project-2/venv/lib/python3.11/site-packages/sklearn/neural_network/_multilayer_perceptron.py:614: ConvergenceWarning: Stochastic Optimizer: Maximum iterations (64) reached and the optimization hasn't converged yet.\n",
      "  warnings.warn(\n"
     ]
    },
    {
     "name": "stdout",
     "output_type": "stream",
     "text": [
      "[0.9575184309361524, 0.9632442960489705, 0.9460714782366847]\n",
      "opa\n"
     ]
    },
    {
     "name": "stderr",
     "output_type": "stream",
     "text": [
      "/home/renan/Área de Trabalho/research-project-2/venv/lib/python3.11/site-packages/sklearn/neural_network/_multilayer_perceptron.py:614: ConvergenceWarning: Stochastic Optimizer: Maximum iterations (64) reached and the optimization hasn't converged yet.\n",
      "  warnings.warn(\n"
     ]
    },
    {
     "name": "stdout",
     "output_type": "stream",
     "text": [
      "[0.9689914533100948, 0.9761322166137669, 0.9547157153239783]\n",
      "opa\n"
     ]
    },
    {
     "name": "stderr",
     "output_type": "stream",
     "text": [
      "/home/renan/Área de Trabalho/research-project-2/venv/lib/python3.11/site-packages/sklearn/neural_network/_multilayer_perceptron.py:614: ConvergenceWarning: Stochastic Optimizer: Maximum iterations (64) reached and the optimization hasn't converged yet.\n",
      "  warnings.warn(\n"
     ]
    },
    {
     "name": "stdout",
     "output_type": "stream",
     "text": [
      "[0.9738816861094635, 0.9802392756755229, 0.9611713543431605]\n",
      "opa\n",
      "[0.9709774078478003, 0.980121014927077, 0.9526974979315854]\n",
      "opa\n",
      "[0.9741642223042406, 0.9822232583893107, 0.9580529581403479]\n",
      "opa\n",
      "[0.9786288322254192, 0.9827637532745892, 0.9703624352794143]\n",
      "opa\n",
      "[0.9773526486841161, 0.9818047587554024, 0.9684521247155772]\n",
      "opa\n",
      "[0.9766948929125057, 0.9835313473920678, 0.9630273894616991]\n",
      "opa\n",
      "[0.9780178028658272, 0.9840892435469424, 0.965879863258994]\n",
      "opa\n",
      "[0.9751444620015917, 0.9843925734950599, 0.956655597066556]\n",
      "opa\n",
      "[0.9794788514062154, 0.9835182074897104, 0.9714032692520571]\n"
     ]
    }
   ],
   "source": [
    "TRAINING_SIZE_OPTIONS = [\n",
    "    0.005,\n",
    "    0.01,\n",
    "    0.02,\n",
    "    0.03,\n",
    "    0.05,\n",
    "    0.07,\n",
    "    0.1,\n",
    "    0.125,\n",
    "    0.15,\n",
    "    0.2,\n",
    "    0.25,\n",
    "]\n",
    "\n",
    "for training_size in TRAINING_SIZE_OPTIONS:\n",
    "    best_params_segment = {\n",
    "        \"databases\": [\"AFDB\", \"NSRDB\", \"LTAFDB\"],\n",
    "        \"m_bins\": 50,\n",
    "        \"qtd_segments\": False,\n",
    "        \"segment_size\": 50,\n",
    "        \"range_hist\": (0, 2500),\n",
    "    }\n",
    "\n",
    "    base = extract_segments_bins(**best_params_segment)\n",
    "\n",
    "    best_params = {\n",
    "        \"activation\": \"tanh\",\n",
    "        \"alpha\": 2.6e-06,\n",
    "        \"beta_1\": 0.999,\n",
    "        \"beta_2\": 0.9,\n",
    "        \"hidden_layer_sizes\": (50, 50),\n",
    "        \"max_iter\": 64,\n",
    "        \"n_iter_no_change\": 32,\n",
    "        \"validation_fraction\": 0.0,\n",
    "        \"warm_start\": True,\n",
    "    }\n",
    "\n",
    "    model, report = classifier(base=base, params=best_params, train_size=training_size)\n",
    "\n",
    "    best_params_segment[\"qtd_segments\"] = str(\n",
    "        f\"{int(base.shape[0] * training_size)} ({round(float(training_size * 100), 2)} %)\"\n",
    "    )\n",
    "    del best_params_segment[\"databases\"]\n",
    "\n",
    "    report.persist_report_resume(\n",
    "        **best_params_segment, total_segments=base.shape[0], model=model\n",
    "    )"
   ]
  },
  {
   "cell_type": "code",
   "execution_count": null,
   "metadata": {},
   "outputs": [],
   "source": []
  }
 ],
 "metadata": {
  "kernelspec": {
   "display_name": "venv",
   "language": "python",
   "name": "python3"
  },
  "language_info": {
   "codemirror_mode": {
    "name": "ipython",
    "version": 3
   },
   "file_extension": ".py",
   "mimetype": "text/x-python",
   "name": "python",
   "nbconvert_exporter": "python",
   "pygments_lexer": "ipython3",
   "version": "3.11.3"
  },
  "orig_nbformat": 4
 },
 "nbformat": 4,
 "nbformat_minor": 2
}
