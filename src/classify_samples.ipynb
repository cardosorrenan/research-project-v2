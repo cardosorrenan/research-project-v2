{
 "cells": [
  {
   "cell_type": "code",
   "execution_count": 17,
   "metadata": {},
   "outputs": [],
   "source": [
    "import os\n",
    "import numpy as np\n",
    "from typing import Optional\n",
    "from sklearn.model_selection import StratifiedKFold\n",
    "from sklearn.neural_network import MLPClassifier\n",
    "from sklearn.model_selection import StratifiedShuffleSplit\n",
    "from sklearn.svm import SVC\n",
    "\n",
    "model1 = MLPClassifier(\n",
    "    activation=\"tanh\",\n",
    "    alpha=2.6e-06,\n",
    "    beta_1=0.999,\n",
    "    beta_2=0.9,\n",
    "    hidden_layer_sizes=(50, 50),\n",
    "    max_iter=64,\n",
    "    n_iter_no_change=32,\n",
    "    validation_fraction=0.0,\n",
    "    warm_start=True,\n",
    ")"
   ]
  },
  {
   "cell_type": "code",
   "execution_count": 22,
   "metadata": {},
   "outputs": [],
   "source": [
    "directory = \"./samples\"\n",
    "filename = \"base.npy\"\n",
    "\n",
    "samples = 500\n",
    "\n",
    "path_pos = os.path.join(directory, \"base_pos.npy\")\n",
    "path_neg = os.path.join(directory, \"base_neg.npy\")\n",
    "\n",
    "if os.path.isfile(path_pos) and os.path.isfile(path_neg):\n",
    "    base_pos = np.load(path_pos)\n",
    "    base_neg = np.load(path_neg)\n",
    "\n",
    "    positives = base_pos[np.random.choice(base_pos.shape[0], int(samples / 2))]\n",
    "    negatives = base_neg[np.random.choice(base_neg.shape[0], int(samples / 2))]\n",
    "\n",
    "    base_ready = np.vstack((positives, negatives))"
   ]
  },
  {
   "cell_type": "code",
   "execution_count": 23,
   "metadata": {},
   "outputs": [
    {
     "name": "stdout",
     "output_type": "stream",
     "text": [
      "y_pred1: 0.96\n",
      "y_pred2: 0.54\n",
      "Ensemble Classifier Accuracy: 0.8\n",
      "\n",
      "y_pred1: 0.96\n",
      "y_pred2: 0.64\n",
      "Ensemble Classifier Accuracy: 0.84\n",
      "\n",
      "y_pred1: 0.94\n",
      "y_pred2: 0.72\n",
      "Ensemble Classifier Accuracy: 0.88\n",
      "\n",
      "y_pred1: 1.0\n",
      "y_pred2: 0.68\n",
      "Ensemble Classifier Accuracy: 0.82\n",
      "\n",
      "y_pred1: 0.94\n",
      "y_pred2: 0.62\n",
      "Ensemble Classifier Accuracy: 0.84\n",
      "\n",
      "y_pred1: 0.98\n",
      "y_pred2: 0.66\n",
      "Ensemble Classifier Accuracy: 0.8\n",
      "\n",
      "y_pred1: 0.96\n",
      "y_pred2: 0.68\n",
      "Ensemble Classifier Accuracy: 0.88\n",
      "\n",
      "y_pred1: 0.98\n",
      "y_pred2: 0.66\n",
      "Ensemble Classifier Accuracy: 0.88\n",
      "\n",
      "y_pred1: 0.98\n",
      "y_pred2: 0.74\n",
      "Ensemble Classifier Accuracy: 0.88\n",
      "\n",
      "y_pred1: 0.98\n",
      "y_pred2: 0.58\n",
      "Ensemble Classifier Accuracy: 0.88\n",
      "\n"
     ]
    }
   ],
   "source": [
    "from sklearn.metrics import accuracy_score\n",
    "\n",
    "cross_validation = StratifiedKFold(n_splits=10, shuffle=True)\n",
    "\n",
    "y = np.hstack((np.ones(int(samples / 2)), np.zeros(int(samples / 2))))\n",
    "\n",
    "X = base_ready\n",
    "\n",
    "y_pred1 = []\n",
    "y_pred2 = []\n",
    "\n",
    "for train_index, test_index in cross_validation.split(X, y):\n",
    "    x_train_fold, x_test_fold = X[train_index], X[test_index]\n",
    "    y_train_fold, y_test_fold = y[train_index], y[test_index]\n",
    "\n",
    "    segment_bins_train_fold = x_train_fold[:, 0]\n",
    "    tq_segment_train_fold = x_train_fold[:, 1]\n",
    "\n",
    "    segment_bins_test_fold = x_test_fold[:, 0]\n",
    "    tq_segment_test_fold = x_test_fold[:, 1]\n",
    "\n",
    "    model1.fit(segment_bins_train_fold, y_train_fold)\n",
    "    y_pred1 = model1.predict(segment_bins_test_fold)\n",
    "\n",
    "    model1.fit(tq_segment_train_fold, y_train_fold)\n",
    "    y_pred2 = model1.predict(tq_segment_test_fold)\n",
    "\n",
    "    accuracy = accuracy_score(y_test_fold, y_pred1)\n",
    "    print(\"y_pred1:\", accuracy)\n",
    "\n",
    "    accuracy = accuracy_score(y_test_fold, y_pred2)\n",
    "    print(\"y_pred2:\", accuracy)\n",
    "\n",
    "    combined_labels = np.array(\n",
    "        [np.argmax(np.bincount([y_pred1[i], y_pred2[i]])) for i in range(len(y_pred1))]\n",
    "    )\n",
    "    accuracy = accuracy_score(y_test_fold, combined_labels)\n",
    "    print(\"Ensemble Classifier Accuracy:\", accuracy)\n",
    "\n",
    "    print()"
   ]
  },
  {
   "cell_type": "code",
   "execution_count": null,
   "metadata": {},
   "outputs": [],
   "source": []
  },
  {
   "cell_type": "code",
   "execution_count": null,
   "metadata": {},
   "outputs": [],
   "source": [
    "y_test_fold"
   ]
  },
  {
   "cell_type": "code",
   "execution_count": null,
   "metadata": {},
   "outputs": [],
   "source": [
    "# Assuming y_test contains the true labels for the test dataset"
   ]
  }
 ],
 "metadata": {
  "kernelspec": {
   "display_name": "venv",
   "language": "python",
   "name": "python3"
  },
  "language_info": {
   "codemirror_mode": {
    "name": "ipython",
    "version": 3
   },
   "file_extension": ".py",
   "mimetype": "text/x-python",
   "name": "python",
   "nbconvert_exporter": "python",
   "pygments_lexer": "ipython3",
   "version": "3.8.17"
  },
  "orig_nbformat": 4
 },
 "nbformat": 4,
 "nbformat_minor": 2
}
