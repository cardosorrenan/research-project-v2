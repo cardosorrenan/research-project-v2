{
 "cells": [
  {
   "cell_type": "code",
   "execution_count": 4,
   "metadata": {},
   "outputs": [],
   "source": [
    "import os\n",
    "import numpy as np\n",
    "from typing import Optional\n",
    "from sklearn.model_selection import StratifiedKFold\n",
    "from sklearn.neural_network import MLPClassifier\n",
    "from sklearn.model_selection import StratifiedShuffleSplit\n",
    "from sklearn.svm import SVC\n",
    "\n",
    "model1 = MLPClassifier(\n",
    "    activation=\"tanh\",\n",
    "    alpha=2.6e-06,\n",
    "    beta_1=0.999,\n",
    "    beta_2=0.9,\n",
    "    hidden_layer_sizes=(50, 50),\n",
    "    max_iter=64,\n",
    "    n_iter_no_change=32,\n",
    "    validation_fraction=0.0,\n",
    "    warm_start=True,\n",
    ")"
   ]
  },
  {
   "cell_type": "code",
   "execution_count": 14,
   "metadata": {},
   "outputs": [],
   "source": [
    "directory = \"./samples\"\n",
    "filename = \"base.npy\"\n",
    "\n",
    "samples = 12000\n",
    "\n",
    "path_pos = os.path.join(directory, \"base_pos.npy\")\n",
    "path_neg = os.path.join(directory, \"base_neg.npy\")\n",
    "\n",
    "if os.path.isfile(path_pos) and os.path.isfile(path_neg):\n",
    "    base_pos = np.load(path_pos)\n",
    "    base_neg = np.load(path_neg)\n",
    "\n",
    "    positives = base_pos[np.random.choice(base_pos.shape[0], int(samples / 2))]\n",
    "    negatives = base_neg[np.random.choice(base_neg.shape[0], int(samples / 2))]\n",
    "\n",
    "    base_ready = np.vstack((positives, negatives))"
   ]
  },
  {
   "cell_type": "code",
   "execution_count": 6,
   "metadata": {},
   "outputs": [],
   "source": [
    "import os\n",
    "\n",
    "path_pos = np.load(\"random_samples_pos.npy\")\n",
    "path_neg = np.load(\"random_samples_neg.npy\")"
   ]
  },
  {
   "cell_type": "code",
   "execution_count": 7,
   "metadata": {},
   "outputs": [
    {
     "ename": "NameError",
     "evalue": "name 'samples' is not defined",
     "output_type": "error",
     "traceback": [
      "\u001b[0;31m---------------------------------------------------------------------------\u001b[0m",
      "\u001b[0;31mNameError\u001b[0m                                 Traceback (most recent call last)",
      "Cell \u001b[0;32mIn[7], line 5\u001b[0m\n\u001b[1;32m      1\u001b[0m \u001b[39mfrom\u001b[39;00m \u001b[39msklearn\u001b[39;00m\u001b[39m.\u001b[39;00m\u001b[39mmetrics\u001b[39;00m \u001b[39mimport\u001b[39;00m accuracy_score\n\u001b[1;32m      3\u001b[0m cross_validation \u001b[39m=\u001b[39m StratifiedKFold(n_splits\u001b[39m=\u001b[39m\u001b[39m10\u001b[39m, shuffle\u001b[39m=\u001b[39m\u001b[39mTrue\u001b[39;00m)\n\u001b[0;32m----> 5\u001b[0m y \u001b[39m=\u001b[39m np\u001b[39m.\u001b[39mhstack((np\u001b[39m.\u001b[39mones(\u001b[39mint\u001b[39m(samples \u001b[39m/\u001b[39m \u001b[39m2\u001b[39m)), np\u001b[39m.\u001b[39mzeros(\u001b[39mint\u001b[39m(samples \u001b[39m/\u001b[39m \u001b[39m2\u001b[39m))))\n\u001b[1;32m      7\u001b[0m X \u001b[39m=\u001b[39m base_ready\n\u001b[1;32m      9\u001b[0m y_pred1 \u001b[39m=\u001b[39m []\n",
      "\u001b[0;31mNameError\u001b[0m: name 'samples' is not defined"
     ]
    }
   ],
   "source": [
    "from sklearn.metrics import accuracy_score\n",
    "\n",
    "cross_validation = StratifiedKFold(n_splits=10, shuffle=True)\n",
    "\n",
    "y = np.hstack((np.ones(int(samples / 2)), np.zeros(int(samples / 2))))\n",
    "\n",
    "X = base_ready\n",
    "\n",
    "y_pred1 = []\n",
    "y_pred2 = []\n",
    "\n",
    "for train_index, test_index in cross_validation.split(X, y):\n",
    "    x_train_fold, x_test_fold = X[train_index], X[test_index]\n",
    "    y_train_fold, y_test_fold = y[train_index], y[test_index]\n",
    "\n",
    "    model1.fit(x_train_fold, y_train_fold)\n",
    "    y_pred1 = model1.predict(x_test_fold)\n",
    "    accuracy = accuracy_score(y_test_fold, y_pred1)\n",
    "    print(\"y_pred1:\", accuracy)"
   ]
  }
 ],
 "metadata": {
  "kernelspec": {
   "display_name": "venv",
   "language": "python",
   "name": "python3"
  },
  "language_info": {
   "codemirror_mode": {
    "name": "ipython",
    "version": 3
   },
   "file_extension": ".py",
   "mimetype": "text/x-python",
   "name": "python",
   "nbconvert_exporter": "python",
   "pygments_lexer": "ipython3",
   "version": "3.8.17"
  },
  "orig_nbformat": 4
 },
 "nbformat": 4,
 "nbformat_minor": 2
}
