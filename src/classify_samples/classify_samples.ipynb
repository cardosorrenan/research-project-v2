{
 "cells": [
  {
   "cell_type": "code",
   "execution_count": 1,
   "metadata": {},
   "outputs": [],
   "source": [
    "import os\n",
    "import numpy as np\n",
    "from sklearn.neural_network import MLPClassifier\n",
    "from sklearn.svm import SVC\n",
    "from xgboost import XGBClassifier\n",
    "import numpy as np\n",
    "from sklearn.model_selection import cross_val_score, KFold\n",
    "from sklearn.decomposition import PCA\n",
    "from sklearn.pipeline import Pipeline"
   ]
  },
  {
   "cell_type": "code",
   "execution_count": 2,
   "metadata": {},
   "outputs": [],
   "source": [
    "afdb_feature_filenames = os.listdir(\"./../extract_features/AFDB/\")\n",
    "ltafdb_feature_filenames = os.listdir(\"./../extract_features/LTAFDB/\")\n",
    "\n",
    "base_pos = np.empty((0, 57))\n",
    "\n",
    "for feature in afdb_feature_filenames:\n",
    "    sample = np.load(f\"./../extract_features/AFDB/{feature}\", allow_pickle=True)\n",
    "    base_pos = np.vstack((base_pos, sample))\n",
    "\n",
    "for feature in ltafdb_feature_filenames:\n",
    "    sample = np.load(f\"./../extract_features/LTAFDB/{feature}\", allow_pickle=True)\n",
    "    base_pos = np.vstack((base_pos, sample))"
   ]
  },
  {
   "cell_type": "code",
   "execution_count": 3,
   "metadata": {},
   "outputs": [
    {
     "data": {
      "text/plain": [
       "(499, 57)"
      ]
     },
     "execution_count": 3,
     "metadata": {},
     "output_type": "execute_result"
    }
   ],
   "source": [
    "base_pos.shape"
   ]
  },
  {
   "cell_type": "code",
   "execution_count": 4,
   "metadata": {},
   "outputs": [],
   "source": [
    "nsrdb_feature_filenames = os.listdir(\"./../extract_features/NSRDB/\")\n",
    "\n",
    "base_neg = np.empty((0, 57))\n",
    "\n",
    "for feature in nsrdb_feature_filenames:\n",
    "    sample = np.load(f\"./../extract_features/NSRDB/{feature}\", allow_pickle=True)\n",
    "    base_neg = np.vstack((base_neg, sample))"
   ]
  },
  {
   "cell_type": "code",
   "execution_count": 5,
   "metadata": {},
   "outputs": [
    {
     "data": {
      "text/plain": [
       "(600, 57)"
      ]
     },
     "execution_count": 5,
     "metadata": {},
     "output_type": "execute_result"
    }
   ],
   "source": [
    "base_neg.shape"
   ]
  },
  {
   "cell_type": "markdown",
   "metadata": {},
   "source": [
    "Histograma"
   ]
  },
  {
   "cell_type": "code",
   "execution_count": 6,
   "metadata": {},
   "outputs": [],
   "source": [
    "positives = base_pos[np.random.choice(base_pos.shape[0], base_pos.shape[0])]\n",
    "negatives = base_neg[np.random.choice(base_neg.shape[0], base_neg.shape[0])]\n",
    "\n",
    "base_ready = np.vstack((positives, negatives))\n",
    "base_ready = base_ready[0:, 0:-7]"
   ]
  },
  {
   "cell_type": "markdown",
   "metadata": {},
   "source": [
    "Histograma + BTD"
   ]
  },
  {
   "cell_type": "code",
   "execution_count": 13,
   "metadata": {},
   "outputs": [],
   "source": [
    "positives = base_pos[np.random.choice(base_pos.shape[0], base_pos.shape[0])]\n",
    "negatives = base_neg[np.random.choice(base_neg.shape[0], base_neg.shape[0])]\n",
    "\n",
    "base_ready = np.vstack((positives, negatives))\n",
    "part_a = base_ready[0:, 0:-7]\n",
    "part_b = base_ready[0:, -6:]\n",
    "base_ready = np.hstack((part_a, part_b))"
   ]
  },
  {
   "cell_type": "markdown",
   "metadata": {},
   "source": [
    "BTD"
   ]
  },
  {
   "cell_type": "code",
   "execution_count": 7,
   "metadata": {},
   "outputs": [],
   "source": [
    "positives = base_pos[np.random.choice(base_pos.shape[0], base_pos.shape[0])]\n",
    "negatives = base_neg[np.random.choice(base_neg.shape[0], base_neg.shape[0])]\n",
    "\n",
    "base_ready = np.vstack((positives, negatives))\n",
    "base_ready = base_ready[0:, -6:]"
   ]
  },
  {
   "cell_type": "code",
   "execution_count": 8,
   "metadata": {},
   "outputs": [],
   "source": [
    "y = np.hstack((np.ones(base_pos.shape[0]), np.zeros(base_neg.shape[0])))\n",
    "X = base_ready"
   ]
  },
  {
   "cell_type": "code",
   "execution_count": 9,
   "metadata": {},
   "outputs": [
    {
     "data": {
      "text/plain": [
       "(1099, 6)"
      ]
     },
     "execution_count": 9,
     "metadata": {},
     "output_type": "execute_result"
    }
   ],
   "source": [
    "X.shape"
   ]
  },
  {
   "cell_type": "code",
   "execution_count": 10,
   "metadata": {},
   "outputs": [
    {
     "data": {
      "text/plain": [
       "(1099,)"
      ]
     },
     "execution_count": 10,
     "metadata": {},
     "output_type": "execute_result"
    }
   ],
   "source": [
    "y.shape"
   ]
  },
  {
   "cell_type": "markdown",
   "metadata": {},
   "source": [
    "# SVM"
   ]
  },
  {
   "cell_type": "code",
   "execution_count": null,
   "metadata": {},
   "outputs": [],
   "source": [
    "svm_classifier = SVC(kernel=\"linear\", C=1)\n",
    "kf = KFold(n_splits=5, shuffle=True)\n",
    "scores = cross_val_score(svm_classifier, X, y, cv=kf)\n",
    "\n",
    "print(\"Cross-validation scores:\", scores)\n",
    "\n",
    "mean_score = np.mean(scores)\n",
    "std_deviation = np.std(scores)\n",
    "print(f\"Mean accuracy: {mean_score:.2f} (+/- {std_deviation:.2f})\")"
   ]
  },
  {
   "cell_type": "markdown",
   "metadata": {},
   "source": [
    "# PCA + SVM"
   ]
  },
  {
   "cell_type": "code",
   "execution_count": 13,
   "metadata": {},
   "outputs": [
    {
     "name": "stdout",
     "output_type": "stream",
     "text": [
      "Cross-validation scores: [0.96363636 0.91818182 0.94545455 0.9        0.97272727 0.93636364\n",
      " 0.95454545 0.95454545 0.97272727 0.94495413]\n",
      "Mean accuracy: 0.95 (+/- 0.02)\n"
     ]
    }
   ],
   "source": [
    "pca = PCA(n_components=4)\n",
    "\n",
    "svm_classifier = SVC(kernel=\"linear\", C=1)\n",
    "xgb_classifier = XGBClassifier()\n",
    "pipeline = Pipeline([(\"pca\", pca), (\"svm\", xgb_classifier)])\n",
    "\n",
    "kf = KFold(n_splits=10, shuffle=True)\n",
    "scores = cross_val_score(pipeline, X, y, cv=kf)\n",
    "\n",
    "print(\"Cross-validation scores:\", scores)\n",
    "\n",
    "mean_score = np.mean(scores)\n",
    "std_deviation = np.std(scores)\n",
    "print(f\"Mean accuracy: {mean_score:.2f} (+/- {std_deviation:.2f})\")"
   ]
  },
  {
   "cell_type": "markdown",
   "metadata": {},
   "source": [
    "# XGBOOST"
   ]
  },
  {
   "cell_type": "code",
   "execution_count": null,
   "metadata": {},
   "outputs": [],
   "source": [
    "xgb_classifier = XGBClassifier()\n",
    "kf = KFold(n_splits=10, shuffle=True)\n",
    "scores = cross_val_score(xgb_classifier, X, y, cv=kf)\n",
    "\n",
    "# Print the cross-validation scores\n",
    "print(\"Cross-validation scores:\", scores)\n",
    "\n",
    "# Calculate and print the mean and standard deviation of the scores\n",
    "mean_score = np.mean(scores)\n",
    "std_deviation = np.std(scores)\n",
    "print(f\"Mean accuracy: {mean_score:.2f} (+/- {std_deviation:.2f})\")"
   ]
  },
  {
   "cell_type": "markdown",
   "metadata": {},
   "source": [
    "# MLP qualis"
   ]
  },
  {
   "cell_type": "code",
   "execution_count": 14,
   "metadata": {},
   "outputs": [
    {
     "name": "stdout",
     "output_type": "stream",
     "text": [
      "Cross-validation scores: [0.95454545 0.96363636 0.92727273 0.96363636 0.95454545 0.96363636\n",
      " 0.93636364 0.91818182 0.90909091 0.93577982]\n",
      "Mean accuracy: 0.94 (+/- 0.02)\n"
     ]
    }
   ],
   "source": [
    "model1 = MLPClassifier(\n",
    "    activation=\"tanh\",\n",
    "    alpha=2.6e-06,\n",
    "    beta_1=0.999,\n",
    "    beta_2=0.9,\n",
    "    hidden_layer_sizes=(50, 50),\n",
    "    max_iter=64,\n",
    "    n_iter_no_change=32,\n",
    "    validation_fraction=0.0,\n",
    "    warm_start=True,\n",
    ")\n",
    "\n",
    "\n",
    "kf = KFold(n_splits=10, shuffle=True)\n",
    "scores = cross_val_score(pipeline, X, y, cv=kf)\n",
    "\n",
    "print(\"Cross-validation scores:\", scores)\n",
    "\n",
    "mean_score = np.mean(scores)\n",
    "std_deviation = np.std(scores)\n",
    "print(f\"Mean accuracy: {mean_score:.2f} (+/- {std_deviation:.2f})\")"
   ]
  },
  {
   "cell_type": "code",
   "execution_count": 17,
   "metadata": {},
   "outputs": [
    {
     "name": "stdout",
     "output_type": "stream",
     "text": [
      "0.25 274\n",
      "0.24 263\n",
      "0.23 252\n",
      "0.22 241\n",
      "0.21 230\n",
      "0.2 219\n",
      "0.19 208\n",
      "0.18 197\n",
      "0.17 186\n",
      "0.16 175\n",
      "0.15 164\n",
      "0.14 153\n",
      "0.13 142\n",
      "0.12 131\n",
      "0.11 120\n",
      "0.1 109\n",
      "0.09 98\n",
      "0.08 87\n",
      "0.07 76\n",
      "0.06 65\n",
      "0.05 54\n",
      "0.04 43\n",
      "0.03 32\n",
      "0.02 21\n",
      "0.01 10\n"
     ]
    }
   ],
   "source": [
    "import numpy as np\n",
    "import pandas as pd\n",
    "import matplotlib.pyplot as plt\n",
    "from sklearn.datasets import load_iris\n",
    "from sklearn.model_selection import train_test_split\n",
    "from sklearn.tree import DecisionTreeClassifier\n",
    "from sklearn.metrics import accuracy_score\n",
    "\n",
    "# Initialize variables for results\n",
    "sample_counts = []  # Stores the number of training samples\n",
    "accuracies = []\n",
    "labels = []  # Stores labels for x-axis\n",
    "\n",
    "\n",
    "# XGB\n",
    "model1 = XGBClassifier()\n",
    "\n",
    "# PCA + SVM\n",
    "pca = PCA(n_components=4)\n",
    "svm_classifier = SVC(kernel=\"linear\", C=1)\n",
    "xgb_classifier = XGBClassifier()\n",
    "model2 = Pipeline([(\"pca\", pca), (\"svm\", xgb_classifier)])\n",
    "\n",
    "\n",
    "choosed_model = model1\n",
    "\n",
    "# Define a range of percentages for decreasing data\n",
    "data_percentages = np.arange(25, 0, -1) / 100\n",
    "\n",
    "# Iterate over the data percentages\n",
    "for data_percentage in data_percentages:\n",
    "    data_percentage = round(data_percentage, 4)\n",
    "\n",
    "    # Split the data into training and test sets with the specified percentage\n",
    "    \n",
    "    num_samples = int(len(X) * data_percentage)\n",
    "    \n",
    "    print(data_percentage, num_samples)\n",
    "\n",
    "\n",
    "    X_train, X_test, y_train, y_test = train_test_split(X, y, test_size=1 - data_percentage, random_state=42)\n",
    "    \n",
    "    # Create and train your model (replace with your model and hyperparameters)\n",
    "    choosed_model.fit(X_train, y_train)\n",
    "    \n",
    "    # Make predictions on the test set\n",
    "    y_pred = choosed_model.predict(X_test)\n",
    "    \n",
    "    # Calculate accuracy\n",
    "    accuracy = accuracy_score(y_test, y_pred)\n",
    "    \n",
    "    # Append results to the lists\n",
    "    sample_counts.append(num_samples)\n",
    "    accuracies.append(accuracy)\n",
    "    \n",
    "    labels.append(f\"{num_samples}\\n{data_percentage * 100:.0f}%\")\n"
   ]
  },
  {
   "cell_type": "code",
   "execution_count": 18,
   "metadata": {},
   "outputs": [
    {
     "data": {
      "image/png": "[encoded data removed]",
      "text/plain": [
       "<Figure size 1600x600 with 1 Axes>"
      ]
     },
     "metadata": {},
     "output_type": "display_data"
    }
   ],
   "source": [
    "\n",
    "\n",
    "# Create a DataFrame to store the results\n",
    "results_df = pd.DataFrame({'Sample Counts': sample_counts, 'Accuracy': accuracies})\n",
    "\n",
    "# Plot the results\n",
    "plt.figure(figsize=(16, 6))\n",
    "plt.plot(results_df['Sample Counts'], results_df['Accuracy'], marker='o')\n",
    "\n",
    "plt.xlabel('Sample Counts')\n",
    "plt.xticks(sample_counts, labels, fontsize=7)  # Set x-axis labels every fifth sample\n",
    "plt.ylabel('Accuracy')\n",
    "plt.grid(True)\n",
    "\n",
    "# Show the plot\n",
    "plt.show()"
   ]
  }
 ],
 "metadata": {
  "kernelspec": {
   "display_name": "venv",
   "language": "python",
   "name": "python3"
  },
  "language_info": {
   "codemirror_mode": {
    "name": "ipython",
    "version": 3
   },
   "file_extension": ".py",
   "mimetype": "text/x-python",
   "name": "python",
   "nbconvert_exporter": "python",
   "pygments_lexer": "ipython3",
   "version": "3.8.17"
  },
  "orig_nbformat": 4
 },
 "nbformat": 4,
 "nbformat_minor": 2
}
