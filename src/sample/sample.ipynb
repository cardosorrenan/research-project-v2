{
 "cells": [
  {
   "cell_type": "code",
   "execution_count": 3,
   "metadata": {},
   "outputs": [],
   "source": [
    "%run ../extract_segments_bins/extract_segments_bins.ipynb\n",
    "%run ../classifier/classifier.ipynb"
   ]
  },
  {
   "cell_type": "code",
   "execution_count": 4,
   "metadata": {},
   "outputs": [
    {
     "name": "stderr",
     "output_type": "stream",
     "text": [
      "/home/renan/Área de Trabalho/research-project-2/venv/lib/python3.11/site-packages/sklearn/neural_network/_multilayer_perceptron.py:614: ConvergenceWarning: Stochastic Optimizer: Maximum iterations (64) reached and the optimization hasn't converged yet.\n",
      "  warnings.warn(\n"
     ]
    },
    {
     "name": "stdout",
     "output_type": "stream",
     "text": [
      "[1.0, 1.0, 1.0]\n"
     ]
    }
   ],
   "source": [
    "best_params_segment = {\n",
    "    \"databases\": [\"AFDB\", \"NSRDB\", \"LTAFDB\"],\n",
    "    \"m_bins\": 50,\n",
    "    \"qtd_segments\": 1000,\n",
    "    \"segment_size\": 50,\n",
    "    \"range_hist\": (0, 2500),\n",
    "}\n",
    "\n",
    "base = extract_segments_bins(**best_params_segment)\n",
    "\n",
    "best_params = {\n",
    "    \"activation\": \"tanh\",\n",
    "    \"alpha\": 2.6e-06,\n",
    "    \"beta_1\": 0.999,\n",
    "    \"beta_2\": 0.9,\n",
    "    \"hidden_layer_sizes\": (50, 50),\n",
    "    \"max_iter\": 64,\n",
    "    \"n_iter_no_change\": 32,\n",
    "    \"validation_fraction\": 0.0,\n",
    "    \"warm_start\": True,\n",
    "}\n",
    "\n",
    "model, report = classifier(base=base, params=best_params)\n",
    "del best_params_segment[\"databases\"]\n",
    "report.persist_report_resume(\n",
    "    **best_params_segment, model=model\n",
    ")"
   ]
  }
 ],
 "metadata": {
  "kernelspec": {
   "display_name": "venv",
   "language": "python",
   "name": "python3"
  },
  "language_info": {
   "codemirror_mode": {
    "name": "ipython",
    "version": 3
   },
   "file_extension": ".py",
   "mimetype": "text/x-python",
   "name": "python",
   "nbconvert_exporter": "python",
   "pygments_lexer": "ipython3",
   "version": "3.11.4"
  },
  "orig_nbformat": 4
 },
 "nbformat": 4,
 "nbformat_minor": 2
}
